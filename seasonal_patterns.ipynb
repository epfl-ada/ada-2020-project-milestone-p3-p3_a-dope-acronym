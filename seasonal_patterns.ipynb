{
 "cells": [
  {
   "cell_type": "code",
   "execution_count": 85,
   "metadata": {},
   "outputs": [
    {
     "name": "stdout",
     "output_type": "stream",
     "text": [
      "INFO: Pandarallel will run on 4 workers.\n",
      "INFO: Pandarallel will use standard multiprocessing data transfer (pipe) to transfer data between the main process and workers.\n"
     ]
    }
   ],
   "source": [
    "import pickle\n",
    "import numpy as np\n",
    "import pandas as pd\n",
    "import pygeohash as pgh\n",
    "import matplotlib.pyplot as plt\n",
    "import reverse_geocoder as rg\n",
    "\n",
    "import math\n",
    "\n",
    "import geopy.distance\n",
    "\n",
    "from datetime import datetime\n",
    "from tqdm import tqdm_notebook\n",
    "from pandarallel import pandarallel\n",
    "\n",
    "pandarallel.initialize(nb_workers=4, use_memory_fs=False)"
   ]
  },
  {
   "cell_type": "markdown",
   "metadata": {},
   "source": [
    "# Detecting Seasonal Patterns in User Movement"
   ]
  },
  {
   "cell_type": "markdown",
   "metadata": {},
   "source": [
    "There is more to human movement than periodic patterns and social-based movement. While the paper accurately predicts human movement throughout the week, we propose a more all-encompassing analysis that paints a broader picture, exploring monthly and seasonal movement. To do so, we will use the original check-in and friendship datasets from Gowalla and Brightkite and separate them into subsets representing a narrower time of the year. We want to see what mobility patterns are exhibited in different countries and throughout different times of the year: users can go on vacation, travel abroad, and change homes. This would allow us to understand the travelling patterns of users around the world (i.e. who is more likely to travel and where) as well as the distribution of check-ins and their density. We want to produce visualizations showcasing these patterns on a world map. "
   ]
  },
  {
   "cell_type": "markdown",
   "metadata": {},
   "source": [
    "Our starting point is the first replication of the Friendship and Mobility paper. We re-use the data-loading and data cleaning part, as well as the technique to determine home locations."
   ]
  },
  {
   "cell_type": "markdown",
   "metadata": {},
   "source": [
    "## Loading the data"
   ]
  },
  {
   "cell_type": "code",
   "execution_count": 6,
   "metadata": {},
   "outputs": [],
   "source": [
    "# The datasets have no headers, so we have to name them for clarity\n",
    "checkin_header = ['user', 'checkin_time', 'latitude', 'longitude', 'location_id']\n",
    "edges_header = ['user1', 'user2']\n",
    "\n",
    "# Load the data by specifying the correct compression algorithm, separator and column names\n",
    "checkin_brightkite_orig = pd.read_csv('data/loc-brightkite_totalCheckins.txt.gz', compression = 'gzip', sep = '\\t', names = checkin_header)\n",
    "edges_brightkite_orig = pd.read_csv('data/loc-brightkite_edges.txt.gz', compression = 'gzip', sep = '\\t', names = edges_header)\n",
    "checkin_gowalla_orig = pd.read_csv('data/loc-gowalla_totalCheckins.txt.gz', compression = 'gzip', sep = '\\t', names = checkin_header)\n",
    "edges_gowalla_orig = pd.read_csv('data/loc-gowalla_edges.txt.gz', compression = 'gzip', sep = '\\t', names = edges_header)"
   ]
  },
  {
   "cell_type": "markdown",
   "metadata": {},
   "source": [
    "## Cleaning the data"
   ]
  },
  {
   "cell_type": "markdown",
   "metadata": {},
   "source": [
    "Some of the latitude and longitude values are not in the valid range of [-90, 90] and [-180, 180] respectively. Moreover, the location having (lat, long) = (0,0) is not a valid one . In both datasets, we remove rows in which either of the location attributes are not valid. We also remove the rows of the Brightkite dataset that have NaN values. "
   ]
  },
  {
   "cell_type": "code",
   "execution_count": 7,
   "metadata": {},
   "outputs": [],
   "source": [
    "def clean(checkins):\n",
    "    \"\"\" Rids the check-in data of invalid coordinates \"\"\"\n",
    "    to_drop = []\n",
    "    # Select indexes to drop depending on conditions mentionned above \n",
    "    to_drop.append(checkins[(checkins['latitude'] < -90.0) | \n",
    "                                   (checkins['latitude'] > 90.0)].index)\n",
    "    to_drop.append(checkins[(checkins['longitude'] < -180.0) | \n",
    "                                   (checkins['longitude'] > 180.0)].index)\n",
    "    to_drop.append(checkins[(checkins['latitude'] == 0) & \n",
    "                                   (checkins['longitude'] == 0)].index)\n",
    "    \n",
    "    for item in to_drop:\n",
    "        checkins.drop(item, inplace = True)\n",
    "    checkins.dropna(inplace = True)\n",
    "    \n",
    "    return checkins"
   ]
  },
  {
   "cell_type": "code",
   "execution_count": 8,
   "metadata": {},
   "outputs": [],
   "source": [
    "# Pass copy of DataFrama in order not to have to reload the original one in case of a mistake\n",
    "checkin_brightkite = clean(checkin_brightkite_orig.copy())\n",
    "checkin_gowalla    = clean(checkin_gowalla_orig.copy())"
   ]
  },
  {
   "cell_type": "markdown",
   "metadata": {},
   "source": [
    "## Adding country information to check-ins"
   ]
  },
  {
   "cell_type": "markdown",
   "metadata": {},
   "source": [
    "For each check-in, we append the country code corresponding to the country the check-in was made in. This is done using a reverse geohashing library [`reverse_geocoder`](https://github.com/thampiman/reverse-geocoder) that maps coordinates (latitutde, longitude) to information about a specific place (e.g. city, country, country code)."
   ]
  },
  {
   "cell_type": "code",
   "execution_count": 9,
   "metadata": {},
   "outputs": [],
   "source": [
    "def extract_coordinates(row):\n",
    "    return (row['latitude'], row['longitude'])\n",
    "\n",
    "def coordinates_to_country(df):\n",
    "    \"\"\"\n",
    "        Maps the coordinates of a dataframe to the country\n",
    "        code using reverse geocoding\n",
    "    \"\"\"\n",
    "    coordinates_tuples = list(df.parallel_apply(extract_coordinates, axis = 1))\n",
    "    geocodes = rg.search(coordinates_tuples)\n",
    "    return [gc['cc'] for gc in geocodes]"
   ]
  },
  {
   "cell_type": "code",
   "execution_count": 10,
   "metadata": {},
   "outputs": [
    {
     "name": "stdout",
     "output_type": "stream",
     "text": [
      "Loading formatted geocoded file...\n"
     ]
    },
    {
     "data": {
      "text/html": [
       "<div>\n",
       "<style scoped>\n",
       "    .dataframe tbody tr th:only-of-type {\n",
       "        vertical-align: middle;\n",
       "    }\n",
       "\n",
       "    .dataframe tbody tr th {\n",
       "        vertical-align: top;\n",
       "    }\n",
       "\n",
       "    .dataframe thead th {\n",
       "        text-align: right;\n",
       "    }\n",
       "</style>\n",
       "<table border=\"1\" class=\"dataframe\">\n",
       "  <thead>\n",
       "    <tr style=\"text-align: right;\">\n",
       "      <th></th>\n",
       "      <th>user</th>\n",
       "      <th>checkin_time</th>\n",
       "      <th>latitude</th>\n",
       "      <th>longitude</th>\n",
       "      <th>location_id</th>\n",
       "      <th>cc</th>\n",
       "    </tr>\n",
       "  </thead>\n",
       "  <tbody>\n",
       "    <tr>\n",
       "      <th>0</th>\n",
       "      <td>0</td>\n",
       "      <td>2010-10-17T01:48:53Z</td>\n",
       "      <td>39.747652</td>\n",
       "      <td>-104.992510</td>\n",
       "      <td>88c46bf20db295831bd2d1718ad7e6f5</td>\n",
       "      <td>US</td>\n",
       "    </tr>\n",
       "    <tr>\n",
       "      <th>1</th>\n",
       "      <td>0</td>\n",
       "      <td>2010-10-16T06:02:04Z</td>\n",
       "      <td>39.891383</td>\n",
       "      <td>-105.070814</td>\n",
       "      <td>7a0f88982aa015062b95e3b4843f9ca2</td>\n",
       "      <td>US</td>\n",
       "    </tr>\n",
       "    <tr>\n",
       "      <th>2</th>\n",
       "      <td>0</td>\n",
       "      <td>2010-10-16T03:48:54Z</td>\n",
       "      <td>39.891077</td>\n",
       "      <td>-105.068532</td>\n",
       "      <td>dd7cd3d264c2d063832db506fba8bf79</td>\n",
       "      <td>US</td>\n",
       "    </tr>\n",
       "    <tr>\n",
       "      <th>3</th>\n",
       "      <td>0</td>\n",
       "      <td>2010-10-14T18:25:51Z</td>\n",
       "      <td>39.750469</td>\n",
       "      <td>-104.999073</td>\n",
       "      <td>9848afcc62e500a01cf6fbf24b797732f8963683</td>\n",
       "      <td>US</td>\n",
       "    </tr>\n",
       "    <tr>\n",
       "      <th>4</th>\n",
       "      <td>0</td>\n",
       "      <td>2010-10-14T00:21:47Z</td>\n",
       "      <td>39.752713</td>\n",
       "      <td>-104.996337</td>\n",
       "      <td>2ef143e12038c870038df53e0478cefc</td>\n",
       "      <td>US</td>\n",
       "    </tr>\n",
       "  </tbody>\n",
       "</table>\n",
       "</div>"
      ],
      "text/plain": [
       "   user          checkin_time   latitude   longitude  \\\n",
       "0     0  2010-10-17T01:48:53Z  39.747652 -104.992510   \n",
       "1     0  2010-10-16T06:02:04Z  39.891383 -105.070814   \n",
       "2     0  2010-10-16T03:48:54Z  39.891077 -105.068532   \n",
       "3     0  2010-10-14T18:25:51Z  39.750469 -104.999073   \n",
       "4     0  2010-10-14T00:21:47Z  39.752713 -104.996337   \n",
       "\n",
       "                                location_id  cc  \n",
       "0          88c46bf20db295831bd2d1718ad7e6f5  US  \n",
       "1          7a0f88982aa015062b95e3b4843f9ca2  US  \n",
       "2          dd7cd3d264c2d063832db506fba8bf79  US  \n",
       "3  9848afcc62e500a01cf6fbf24b797732f8963683  US  \n",
       "4          2ef143e12038c870038df53e0478cefc  US  "
      ]
     },
     "execution_count": 10,
     "metadata": {},
     "output_type": "execute_result"
    }
   ],
   "source": [
    "# Append country codes to each check-in for both datasets\n",
    "checkin_brightkite['cc'] = coordinates_to_country(checkin_brightkite)\n",
    "checkin_gowalla['cc']    = coordinates_to_country(checkin_gowalla)\n",
    "\n",
    "checkin_brightkite.head()"
   ]
  },
  {
   "cell_type": "markdown",
   "metadata": {},
   "source": [
    "## Determining the location of user homes"
   ]
  },
  {
   "cell_type": "markdown",
   "metadata": {},
   "source": [
    "Here, the geohash is used to determine the home location for every user. Since this is similar to what was done in the replication, we will not go into detail about the implementation and justification."
   ]
  },
  {
   "cell_type": "code",
   "execution_count": 11,
   "metadata": {},
   "outputs": [],
   "source": [
    "def geohash_encode(row):\n",
    "    \"\"\"\n",
    "        Computes and returns the geohash with \n",
    "        precision 4 for a given row \n",
    "    \"\"\"\n",
    "    return pgh.encode(*extract_coordinates(row), precision=4)\n",
    "\n",
    "def find_home(checkins, user_id):\n",
    "    \"\"\"\n",
    "        Given a user id, finds the most common world cell and \n",
    "        computes average location to estimate home location\n",
    "    \"\"\"\n",
    "    # Retrieve all the user's check-ins\n",
    "    group = checkins[checkins['user']  == user_id]\n",
    "    # Get the most common geohash for the user\n",
    "    geohash = group.groupby('geohash').size().idxmax()\n",
    "    \n",
    "    # Keep all checkins that happened in the most common geohash and compute average position\n",
    "    return group[group['geohash'] == geohash][['latitude', 'longitude']].mean()\n",
    "\n",
    "def find_home_brightkite(user_id):\n",
    "    return find_home(checkin_brightkite, user_id)\n",
    "\n",
    "def find_home_gowalla(user_id):\n",
    "    return find_home(checkin_gowalla, user_id)"
   ]
  },
  {
   "cell_type": "code",
   "execution_count": 12,
   "metadata": {},
   "outputs": [],
   "source": [
    "# Compute the geohash for each check-in entry: that will determine the cell in which each check-in belongs\n",
    "checkin_brightkite['geohash'] = checkin_brightkite.parallel_apply(geohash_encode, axis = 1)\n",
    "checkin_gowalla['geohash']    = checkin_gowalla.parallel_apply(geohash_encode, axis = 1)"
   ]
  },
  {
   "cell_type": "code",
   "execution_count": 13,
   "metadata": {},
   "outputs": [
    {
     "data": {
      "text/html": [
       "<div>\n",
       "<style scoped>\n",
       "    .dataframe tbody tr th:only-of-type {\n",
       "        vertical-align: middle;\n",
       "    }\n",
       "\n",
       "    .dataframe tbody tr th {\n",
       "        vertical-align: top;\n",
       "    }\n",
       "\n",
       "    .dataframe thead th {\n",
       "        text-align: right;\n",
       "    }\n",
       "</style>\n",
       "<table border=\"1\" class=\"dataframe\">\n",
       "  <thead>\n",
       "    <tr style=\"text-align: right;\">\n",
       "      <th></th>\n",
       "      <th>latitude</th>\n",
       "      <th>longitude</th>\n",
       "      <th>cc</th>\n",
       "    </tr>\n",
       "  </thead>\n",
       "  <tbody>\n",
       "    <tr>\n",
       "      <th>0</th>\n",
       "      <td>39.783678</td>\n",
       "      <td>-104.992871</td>\n",
       "      <td>US</td>\n",
       "    </tr>\n",
       "    <tr>\n",
       "      <th>1</th>\n",
       "      <td>37.643427</td>\n",
       "      <td>-122.416294</td>\n",
       "      <td>US</td>\n",
       "    </tr>\n",
       "    <tr>\n",
       "      <th>2</th>\n",
       "      <td>39.777215</td>\n",
       "      <td>-105.003989</td>\n",
       "      <td>US</td>\n",
       "    </tr>\n",
       "    <tr>\n",
       "      <th>3</th>\n",
       "      <td>37.765367</td>\n",
       "      <td>-122.424540</td>\n",
       "      <td>US</td>\n",
       "    </tr>\n",
       "    <tr>\n",
       "      <th>4</th>\n",
       "      <td>60.174029</td>\n",
       "      <td>24.937171</td>\n",
       "      <td>FI</td>\n",
       "    </tr>\n",
       "  </tbody>\n",
       "</table>\n",
       "</div>"
      ],
      "text/plain": [
       "    latitude   longitude  cc\n",
       "0  39.783678 -104.992871  US\n",
       "1  37.643427 -122.416294  US\n",
       "2  39.777215 -105.003989  US\n",
       "3  37.765367 -122.424540  US\n",
       "4  60.174029   24.937171  FI"
      ]
     },
     "execution_count": 13,
     "metadata": {},
     "output_type": "execute_result"
    }
   ],
   "source": [
    "# All the users that made at least 1 check-in\n",
    "brightkite_users = set(checkin_brightkite.user)\n",
    "gowalla_users = set(checkin_gowalla.user)\n",
    "\n",
    "# Create empty DataFrame with user ids and apply function to all users\n",
    "brightkite_homes = pd.DataFrame(index = brightkite_users).index.to_series() \\\n",
    "    .parallel_apply(find_home_brightkite) \n",
    "\n",
    "gowalla_homes = pd.DataFrame(index = gowalla_users).index.to_series() \\\n",
    "    .parallel_apply(find_home_gowalla) \n",
    "\n",
    "# Add the country codes to the homes\n",
    "brightkite_homes['cc'] = coordinates_to_country(brightkite_homes)\n",
    "gowalla_homes['cc'] = coordinates_to_country(gowalla_homes)\n",
    "\n",
    "brightkite_homes.head()"
   ]
  },
  {
   "cell_type": "markdown",
   "metadata": {},
   "source": [
    "### Adding temporal information to the check-in data"
   ]
  },
  {
   "cell_type": "markdown",
   "metadata": {},
   "source": [
    "To be able to separate check-ins temporally, we add to each check-in, the month and season it was made in. "
   ]
  },
  {
   "cell_type": "code",
   "execution_count": 14,
   "metadata": {},
   "outputs": [],
   "source": [
    "def to_datetime(row):\n",
    "    return datetime.strptime(row['checkin_time'], '%Y-%m-%dT%H:%M:%SZ')\n",
    "\n",
    "def get_month(row):\n",
    "    \"\"\" Returns the string found in the row to the correctly formatted datetime object \"\"\"\n",
    "    return to_datetime(row).month\n",
    "\n",
    "# Define the datetime intervals according to every season\n",
    "Y = 2000 # Leap year to allow input X-02-29, which allows for leap days\n",
    "seasons = [('winter', (datetime(Y,  1,  1),  datetime(Y,  3, 20))),\n",
    "           ('spring', (datetime(Y,  3, 21),  datetime(Y,  6, 20))),\n",
    "           ('summer', (datetime(Y,  6, 21),  datetime(Y,  9, 22))),\n",
    "           ('autumn', (datetime(Y,  9, 23),  datetime(Y, 12, 20))),\n",
    "           ('winter', (datetime(Y, 12, 21),  datetime(Y, 12, 31)))]\n",
    "\n",
    "def get_season(row):\n",
    "    \"\"\" \n",
    "        Returns the season from a certain row\n",
    "        Adapted from https://stackoverflow.com/a/28688724 \n",
    "    \"\"\"\n",
    "    date_time = to_datetime(row)\n",
    "    date_time = date_time.replace(year=Y, hour=0, minute=0, second=0)\n",
    "    \n",
    "    return next(season for season, (start, end) in seasons if start <= date_time <= end)"
   ]
  },
  {
   "cell_type": "code",
   "execution_count": 15,
   "metadata": {},
   "outputs": [
    {
     "name": "stderr",
     "output_type": "stream",
     "text": [
      "Process ForkPoolWorker-82:\n",
      "Process ForkPoolWorker-79:\n",
      "Process ForkPoolWorker-80:\n",
      "Process ForkPoolWorker-81:\n",
      "Traceback (most recent call last):\n",
      "Traceback (most recent call last):\n",
      "Traceback (most recent call last):\n",
      "Traceback (most recent call last):\n",
      "  File \"/Users/ben/opt/miniconda3/lib/python3.8/multiprocessing/process.py\", line 315, in _bootstrap\n",
      "    self.run()\n",
      "  File \"/Users/ben/opt/miniconda3/lib/python3.8/multiprocessing/process.py\", line 315, in _bootstrap\n",
      "    self.run()\n",
      "  File \"/Users/ben/opt/miniconda3/lib/python3.8/multiprocessing/process.py\", line 315, in _bootstrap\n",
      "    self.run()\n",
      "  File \"/Users/ben/opt/miniconda3/lib/python3.8/multiprocessing/process.py\", line 315, in _bootstrap\n",
      "    self.run()\n",
      "  File \"/Users/ben/opt/miniconda3/lib/python3.8/multiprocessing/process.py\", line 108, in run\n",
      "    self._target(*self._args, **self._kwargs)\n",
      "  File \"/Users/ben/opt/miniconda3/lib/python3.8/multiprocessing/process.py\", line 108, in run\n",
      "    self._target(*self._args, **self._kwargs)\n",
      "  File \"/Users/ben/opt/miniconda3/lib/python3.8/multiprocessing/process.py\", line 108, in run\n",
      "    self._target(*self._args, **self._kwargs)\n",
      "  File \"/Users/ben/opt/miniconda3/lib/python3.8/multiprocessing/process.py\", line 108, in run\n",
      "    self._target(*self._args, **self._kwargs)\n",
      "  File \"/Users/ben/opt/miniconda3/lib/python3.8/multiprocessing/pool.py\", line 114, in worker\n",
      "    task = get()\n",
      "  File \"/Users/ben/opt/miniconda3/lib/python3.8/multiprocessing/pool.py\", line 114, in worker\n",
      "    task = get()\n",
      "  File \"/Users/ben/opt/miniconda3/lib/python3.8/multiprocessing/pool.py\", line 114, in worker\n",
      "    task = get()\n",
      "  File \"/Users/ben/opt/miniconda3/lib/python3.8/multiprocessing/pool.py\", line 114, in worker\n",
      "    task = get()\n",
      "  File \"/Users/ben/opt/miniconda3/lib/python3.8/multiprocessing/queues.py\", line 355, in get\n",
      "    with self._rlock:\n",
      "  File \"/Users/ben/opt/miniconda3/lib/python3.8/multiprocessing/queues.py\", line 356, in get\n",
      "    res = self._reader.recv_bytes()\n",
      "  File \"/Users/ben/opt/miniconda3/lib/python3.8/multiprocessing/queues.py\", line 355, in get\n",
      "    with self._rlock:\n",
      "  File \"/Users/ben/opt/miniconda3/lib/python3.8/multiprocessing/queues.py\", line 355, in get\n",
      "    with self._rlock:\n",
      "  File \"/Users/ben/opt/miniconda3/lib/python3.8/multiprocessing/connection.py\", line 216, in recv_bytes\n",
      "    buf = self._recv_bytes(maxlength)\n",
      "  File \"/Users/ben/opt/miniconda3/lib/python3.8/multiprocessing/synchronize.py\", line 95, in __enter__\n",
      "    return self._semlock.__enter__()\n",
      "  File \"/Users/ben/opt/miniconda3/lib/python3.8/multiprocessing/synchronize.py\", line 95, in __enter__\n",
      "    return self._semlock.__enter__()\n",
      "  File \"/Users/ben/opt/miniconda3/lib/python3.8/multiprocessing/synchronize.py\", line 95, in __enter__\n",
      "    return self._semlock.__enter__()\n",
      "  File \"/Users/ben/opt/miniconda3/lib/python3.8/multiprocessing/connection.py\", line 414, in _recv_bytes\n",
      "    buf = self._recv(4)\n",
      "KeyboardInterrupt\n",
      "KeyboardInterrupt\n",
      "  File \"/Users/ben/opt/miniconda3/lib/python3.8/multiprocessing/connection.py\", line 379, in _recv\n",
      "    chunk = read(handle, remaining)\n",
      "KeyboardInterrupt\n",
      "KeyboardInterrupt\n"
     ]
    },
    {
     "ename": "KeyboardInterrupt",
     "evalue": "",
     "output_type": "error",
     "traceback": [
      "\u001b[0;31m---------------------------------------------------------------------------\u001b[0m",
      "\u001b[0;31mAttributeError\u001b[0m                            Traceback (most recent call last)",
      "\u001b[0;32m~/opt/miniconda3/lib/python3.8/multiprocessing/managers.py\u001b[0m in \u001b[0;36m_callmethod\u001b[0;34m(self, methodname, args, kwds)\u001b[0m\n\u001b[1;32m    826\u001b[0m         \u001b[0;32mtry\u001b[0m\u001b[0;34m:\u001b[0m\u001b[0;34m\u001b[0m\u001b[0;34m\u001b[0m\u001b[0m\n\u001b[0;32m--> 827\u001b[0;31m             \u001b[0mconn\u001b[0m \u001b[0;34m=\u001b[0m \u001b[0mself\u001b[0m\u001b[0;34m.\u001b[0m\u001b[0m_tls\u001b[0m\u001b[0;34m.\u001b[0m\u001b[0mconnection\u001b[0m\u001b[0;34m\u001b[0m\u001b[0;34m\u001b[0m\u001b[0m\n\u001b[0m\u001b[1;32m    828\u001b[0m         \u001b[0;32mexcept\u001b[0m \u001b[0mAttributeError\u001b[0m\u001b[0;34m:\u001b[0m\u001b[0;34m\u001b[0m\u001b[0;34m\u001b[0m\u001b[0m\n",
      "\u001b[0;31mAttributeError\u001b[0m: 'ForkAwareLocal' object has no attribute 'connection'",
      "\nDuring handling of the above exception, another exception occurred:\n",
      "\u001b[0;31mKeyboardInterrupt\u001b[0m                         Traceback (most recent call last)",
      "\u001b[0;32m<ipython-input-15-089827e39512>\u001b[0m in \u001b[0;36m<module>\u001b[0;34m\u001b[0m\n\u001b[1;32m      1\u001b[0m \u001b[0;31m# Find the month associated with every check-in\u001b[0m\u001b[0;34m\u001b[0m\u001b[0;34m\u001b[0m\u001b[0;34m\u001b[0m\u001b[0m\n\u001b[1;32m      2\u001b[0m \u001b[0mcheckin_brightkite\u001b[0m\u001b[0;34m[\u001b[0m\u001b[0;34m'month'\u001b[0m\u001b[0;34m]\u001b[0m \u001b[0;34m=\u001b[0m \u001b[0mcheckin_brightkite\u001b[0m\u001b[0;34m.\u001b[0m\u001b[0mparallel_apply\u001b[0m\u001b[0;34m(\u001b[0m\u001b[0mget_month\u001b[0m\u001b[0;34m,\u001b[0m \u001b[0maxis\u001b[0m\u001b[0;34m=\u001b[0m\u001b[0;36m1\u001b[0m\u001b[0;34m)\u001b[0m\u001b[0;34m\u001b[0m\u001b[0;34m\u001b[0m\u001b[0m\n\u001b[0;32m----> 3\u001b[0;31m \u001b[0mcheckin_gowalla\u001b[0m\u001b[0;34m[\u001b[0m\u001b[0;34m'month'\u001b[0m\u001b[0;34m]\u001b[0m \u001b[0;34m=\u001b[0m \u001b[0mcheckin_gowalla\u001b[0m\u001b[0;34m.\u001b[0m\u001b[0mparallel_apply\u001b[0m\u001b[0;34m(\u001b[0m\u001b[0mget_month\u001b[0m\u001b[0;34m,\u001b[0m \u001b[0maxis\u001b[0m\u001b[0;34m=\u001b[0m\u001b[0;36m1\u001b[0m\u001b[0;34m)\u001b[0m\u001b[0;34m\u001b[0m\u001b[0;34m\u001b[0m\u001b[0m\n\u001b[0m\u001b[1;32m      4\u001b[0m \u001b[0;34m\u001b[0m\u001b[0m\n\u001b[1;32m      5\u001b[0m \u001b[0;31m# Find the season associated with every check-in\u001b[0m\u001b[0;34m\u001b[0m\u001b[0;34m\u001b[0m\u001b[0;34m\u001b[0m\u001b[0m\n",
      "\u001b[0;32m~/opt/miniconda3/lib/python3.8/site-packages/pandarallel/pandarallel.py\u001b[0m in \u001b[0;36mclosure\u001b[0;34m(data, func, *args, **kwargs)\u001b[0m\n\u001b[1;32m    451\u001b[0m             \u001b[0mpool\u001b[0m\u001b[0;34m.\u001b[0m\u001b[0mclose\u001b[0m\u001b[0;34m(\u001b[0m\u001b[0;34m)\u001b[0m\u001b[0;34m\u001b[0m\u001b[0;34m\u001b[0m\u001b[0m\n\u001b[1;32m    452\u001b[0m \u001b[0;34m\u001b[0m\u001b[0m\n\u001b[0;32m--> 453\u001b[0;31m             results = get_workers_result(\n\u001b[0m\u001b[1;32m    454\u001b[0m                 \u001b[0muse_memory_fs\u001b[0m\u001b[0;34m,\u001b[0m\u001b[0;34m\u001b[0m\u001b[0;34m\u001b[0m\u001b[0m\n\u001b[1;32m    455\u001b[0m                 \u001b[0mnb_workers\u001b[0m\u001b[0;34m,\u001b[0m\u001b[0;34m\u001b[0m\u001b[0;34m\u001b[0m\u001b[0m\n",
      "\u001b[0;32m~/opt/miniconda3/lib/python3.8/site-packages/pandarallel/pandarallel.py\u001b[0m in \u001b[0;36mget_workers_result\u001b[0;34m(use_memory_fs, nb_workers, show_progress_bar, nb_columns, queue, chunk_lengths, input_files, output_files, map_result)\u001b[0m\n\u001b[1;32m    364\u001b[0m \u001b[0;34m\u001b[0m\u001b[0m\n\u001b[1;32m    365\u001b[0m     \u001b[0;32mwhile\u001b[0m \u001b[0;32mnot\u001b[0m \u001b[0mall\u001b[0m\u001b[0;34m(\u001b[0m\u001b[0mfinished_workers\u001b[0m\u001b[0;34m)\u001b[0m\u001b[0;34m:\u001b[0m\u001b[0;34m\u001b[0m\u001b[0;34m\u001b[0m\u001b[0m\n\u001b[0;32m--> 366\u001b[0;31m         \u001b[0mmessage_type\u001b[0m\u001b[0;34m,\u001b[0m \u001b[0mmessage\u001b[0m \u001b[0;34m=\u001b[0m \u001b[0mqueue\u001b[0m\u001b[0;34m.\u001b[0m\u001b[0mget\u001b[0m\u001b[0;34m(\u001b[0m\u001b[0;34m)\u001b[0m\u001b[0;34m\u001b[0m\u001b[0;34m\u001b[0m\u001b[0m\n\u001b[0m\u001b[1;32m    367\u001b[0m \u001b[0;34m\u001b[0m\u001b[0m\n\u001b[1;32m    368\u001b[0m         \u001b[0;32mif\u001b[0m \u001b[0mmessage_type\u001b[0m \u001b[0;32mis\u001b[0m \u001b[0mINPUT_FILE_READ\u001b[0m\u001b[0;34m:\u001b[0m\u001b[0;34m\u001b[0m\u001b[0;34m\u001b[0m\u001b[0m\n",
      "\u001b[0;32m<string>\u001b[0m in \u001b[0;36mget\u001b[0;34m(self, *args, **kwds)\u001b[0m\n",
      "\u001b[0;32m~/opt/miniconda3/lib/python3.8/multiprocessing/managers.py\u001b[0m in \u001b[0;36m_callmethod\u001b[0;34m(self, methodname, args, kwds)\u001b[0m\n\u001b[1;32m    829\u001b[0m             util.debug('thread %r does not own a connection',\n\u001b[1;32m    830\u001b[0m                        threading.current_thread().name)\n\u001b[0;32m--> 831\u001b[0;31m             \u001b[0mself\u001b[0m\u001b[0;34m.\u001b[0m\u001b[0m_connect\u001b[0m\u001b[0;34m(\u001b[0m\u001b[0;34m)\u001b[0m\u001b[0;34m\u001b[0m\u001b[0;34m\u001b[0m\u001b[0m\n\u001b[0m\u001b[1;32m    832\u001b[0m             \u001b[0mconn\u001b[0m \u001b[0;34m=\u001b[0m \u001b[0mself\u001b[0m\u001b[0;34m.\u001b[0m\u001b[0m_tls\u001b[0m\u001b[0;34m.\u001b[0m\u001b[0mconnection\u001b[0m\u001b[0;34m\u001b[0m\u001b[0;34m\u001b[0m\u001b[0m\n\u001b[1;32m    833\u001b[0m \u001b[0;34m\u001b[0m\u001b[0m\n",
      "\u001b[0;32m~/opt/miniconda3/lib/python3.8/multiprocessing/managers.py\u001b[0m in \u001b[0;36m_connect\u001b[0;34m(self)\u001b[0m\n\u001b[1;32m    816\u001b[0m         \u001b[0;32mif\u001b[0m \u001b[0mthreading\u001b[0m\u001b[0;34m.\u001b[0m\u001b[0mcurrent_thread\u001b[0m\u001b[0;34m(\u001b[0m\u001b[0;34m)\u001b[0m\u001b[0;34m.\u001b[0m\u001b[0mname\u001b[0m \u001b[0;34m!=\u001b[0m \u001b[0;34m'MainThread'\u001b[0m\u001b[0;34m:\u001b[0m\u001b[0;34m\u001b[0m\u001b[0;34m\u001b[0m\u001b[0m\n\u001b[1;32m    817\u001b[0m             \u001b[0mname\u001b[0m \u001b[0;34m+=\u001b[0m \u001b[0;34m'|'\u001b[0m \u001b[0;34m+\u001b[0m \u001b[0mthreading\u001b[0m\u001b[0;34m.\u001b[0m\u001b[0mcurrent_thread\u001b[0m\u001b[0;34m(\u001b[0m\u001b[0;34m)\u001b[0m\u001b[0;34m.\u001b[0m\u001b[0mname\u001b[0m\u001b[0;34m\u001b[0m\u001b[0;34m\u001b[0m\u001b[0m\n\u001b[0;32m--> 818\u001b[0;31m         \u001b[0mconn\u001b[0m \u001b[0;34m=\u001b[0m \u001b[0mself\u001b[0m\u001b[0;34m.\u001b[0m\u001b[0m_Client\u001b[0m\u001b[0;34m(\u001b[0m\u001b[0mself\u001b[0m\u001b[0;34m.\u001b[0m\u001b[0m_token\u001b[0m\u001b[0;34m.\u001b[0m\u001b[0maddress\u001b[0m\u001b[0;34m,\u001b[0m \u001b[0mauthkey\u001b[0m\u001b[0;34m=\u001b[0m\u001b[0mself\u001b[0m\u001b[0;34m.\u001b[0m\u001b[0m_authkey\u001b[0m\u001b[0;34m)\u001b[0m\u001b[0;34m\u001b[0m\u001b[0;34m\u001b[0m\u001b[0m\n\u001b[0m\u001b[1;32m    819\u001b[0m         \u001b[0mdispatch\u001b[0m\u001b[0;34m(\u001b[0m\u001b[0mconn\u001b[0m\u001b[0;34m,\u001b[0m \u001b[0;32mNone\u001b[0m\u001b[0;34m,\u001b[0m \u001b[0;34m'accept_connection'\u001b[0m\u001b[0;34m,\u001b[0m \u001b[0;34m(\u001b[0m\u001b[0mname\u001b[0m\u001b[0;34m,\u001b[0m\u001b[0;34m)\u001b[0m\u001b[0;34m)\u001b[0m\u001b[0;34m\u001b[0m\u001b[0;34m\u001b[0m\u001b[0m\n\u001b[1;32m    820\u001b[0m         \u001b[0mself\u001b[0m\u001b[0;34m.\u001b[0m\u001b[0m_tls\u001b[0m\u001b[0;34m.\u001b[0m\u001b[0mconnection\u001b[0m \u001b[0;34m=\u001b[0m \u001b[0mconn\u001b[0m\u001b[0;34m\u001b[0m\u001b[0;34m\u001b[0m\u001b[0m\n",
      "\u001b[0;32m~/opt/miniconda3/lib/python3.8/multiprocessing/connection.py\u001b[0m in \u001b[0;36mClient\u001b[0;34m(address, family, authkey)\u001b[0m\n\u001b[1;32m    500\u001b[0m         \u001b[0mc\u001b[0m \u001b[0;34m=\u001b[0m \u001b[0mPipeClient\u001b[0m\u001b[0;34m(\u001b[0m\u001b[0maddress\u001b[0m\u001b[0;34m)\u001b[0m\u001b[0;34m\u001b[0m\u001b[0;34m\u001b[0m\u001b[0m\n\u001b[1;32m    501\u001b[0m     \u001b[0;32melse\u001b[0m\u001b[0;34m:\u001b[0m\u001b[0;34m\u001b[0m\u001b[0;34m\u001b[0m\u001b[0m\n\u001b[0;32m--> 502\u001b[0;31m         \u001b[0mc\u001b[0m \u001b[0;34m=\u001b[0m \u001b[0mSocketClient\u001b[0m\u001b[0;34m(\u001b[0m\u001b[0maddress\u001b[0m\u001b[0;34m)\u001b[0m\u001b[0;34m\u001b[0m\u001b[0;34m\u001b[0m\u001b[0m\n\u001b[0m\u001b[1;32m    503\u001b[0m \u001b[0;34m\u001b[0m\u001b[0m\n\u001b[1;32m    504\u001b[0m     \u001b[0;32mif\u001b[0m \u001b[0mauthkey\u001b[0m \u001b[0;32mis\u001b[0m \u001b[0;32mnot\u001b[0m \u001b[0;32mNone\u001b[0m \u001b[0;32mand\u001b[0m \u001b[0;32mnot\u001b[0m \u001b[0misinstance\u001b[0m\u001b[0;34m(\u001b[0m\u001b[0mauthkey\u001b[0m\u001b[0;34m,\u001b[0m \u001b[0mbytes\u001b[0m\u001b[0;34m)\u001b[0m\u001b[0;34m:\u001b[0m\u001b[0;34m\u001b[0m\u001b[0;34m\u001b[0m\u001b[0m\n",
      "\u001b[0;32m~/opt/miniconda3/lib/python3.8/multiprocessing/connection.py\u001b[0m in \u001b[0;36mSocketClient\u001b[0;34m(address)\u001b[0m\n\u001b[1;32m    628\u001b[0m     \u001b[0;32mwith\u001b[0m \u001b[0msocket\u001b[0m\u001b[0;34m.\u001b[0m\u001b[0msocket\u001b[0m\u001b[0;34m(\u001b[0m \u001b[0mgetattr\u001b[0m\u001b[0;34m(\u001b[0m\u001b[0msocket\u001b[0m\u001b[0;34m,\u001b[0m \u001b[0mfamily\u001b[0m\u001b[0;34m)\u001b[0m \u001b[0;34m)\u001b[0m \u001b[0;32mas\u001b[0m \u001b[0ms\u001b[0m\u001b[0;34m:\u001b[0m\u001b[0;34m\u001b[0m\u001b[0;34m\u001b[0m\u001b[0m\n\u001b[1;32m    629\u001b[0m         \u001b[0ms\u001b[0m\u001b[0;34m.\u001b[0m\u001b[0msetblocking\u001b[0m\u001b[0;34m(\u001b[0m\u001b[0;32mTrue\u001b[0m\u001b[0;34m)\u001b[0m\u001b[0;34m\u001b[0m\u001b[0;34m\u001b[0m\u001b[0m\n\u001b[0;32m--> 630\u001b[0;31m         \u001b[0ms\u001b[0m\u001b[0;34m.\u001b[0m\u001b[0mconnect\u001b[0m\u001b[0;34m(\u001b[0m\u001b[0maddress\u001b[0m\u001b[0;34m)\u001b[0m\u001b[0;34m\u001b[0m\u001b[0;34m\u001b[0m\u001b[0m\n\u001b[0m\u001b[1;32m    631\u001b[0m         \u001b[0;32mreturn\u001b[0m \u001b[0mConnection\u001b[0m\u001b[0;34m(\u001b[0m\u001b[0ms\u001b[0m\u001b[0;34m.\u001b[0m\u001b[0mdetach\u001b[0m\u001b[0;34m(\u001b[0m\u001b[0;34m)\u001b[0m\u001b[0;34m)\u001b[0m\u001b[0;34m\u001b[0m\u001b[0;34m\u001b[0m\u001b[0m\n\u001b[1;32m    632\u001b[0m \u001b[0;34m\u001b[0m\u001b[0m\n",
      "\u001b[0;31mKeyboardInterrupt\u001b[0m: "
     ]
    }
   ],
   "source": [
    "# Find the month associated with every check-in\n",
    "checkin_brightkite['month'] = checkin_brightkite.parallel_apply(get_month, axis=1)\n",
    "checkin_gowalla['month'] = checkin_gowalla.parallel_apply(get_month, axis=1)\n",
    "\n",
    "# Find the season associated with every check-in\n",
    "checkin_brightkite['season'] = checkin_brightkite.parallel_apply(get_season, axis=1)\n",
    "checkin_gowalla['season'] = checkin_gowalla.parallel_apply(get_season, axis=1)\n",
    "\n",
    "checkin_brightkite.head()"
   ]
  },
  {
   "cell_type": "markdown",
   "metadata": {},
   "source": [
    "## Identify travelers"
   ]
  },
  {
   "cell_type": "markdown",
   "metadata": {},
   "source": [
    "We now indentify users who travel. We define a traveler as a user who has made at least one check-in outside of his home country (determined by the country of its home location). "
   ]
  },
  {
   "cell_type": "code",
   "execution_count": null,
   "metadata": {},
   "outputs": [],
   "source": [
    "def traveler_check(group):\n",
    "    \"\"\" A user is a traveler if he has ever checked in to more than one country \"\"\"\n",
    "    return True if len(set(group['cc'])) > 1 else False"
   ]
  },
  {
   "cell_type": "code",
   "execution_count": null,
   "metadata": {},
   "outputs": [],
   "source": [
    "# Find travellers in both datasets\n",
    "brightkite_homes['traveler'] = checkin_brightkite.groupby('user').parallel_apply(traveler_check)\n",
    "gowalla_homes['traveler'] = checkin_gowalla.groupby('user').parallel_apply(traveler_check)\n",
    "\n",
    "brightkite_homes.head()"
   ]
  },
  {
   "cell_type": "markdown",
   "metadata": {},
   "source": [
    "## Pickle the data"
   ]
  },
  {
   "cell_type": "code",
   "execution_count": 16,
   "metadata": {},
   "outputs": [],
   "source": [
    "pickle.dump(checkin_brightkite, open('pickles/checkin_brightkite', 'wb'))\n",
    "#pickle.dump(checkin_gowalla, open('pickles/checkin_gowalla', 'wb'))\n",
    "\n",
    "pickle.dump(brightkite_homes, open('pickles/brightkite_homes', 'wb'))\n",
    "pickle.dump(gowalla_homes, open('pickles/gowalla_homes', 'wb'))"
   ]
  },
  {
   "cell_type": "code",
   "execution_count": 19,
   "metadata": {},
   "outputs": [],
   "source": [
    "checkin_brightkite = pickle.load(open('pickles/checkin_brightkite', 'rb'))\n",
    "brightkite_homes = pickle.load(open('pickles/brightkite_homes', 'rb'))"
   ]
  },
  {
   "cell_type": "code",
   "execution_count": 71,
   "metadata": {},
   "outputs": [
    {
     "data": {
      "text/html": [
       "<div>\n",
       "<style scoped>\n",
       "    .dataframe tbody tr th:only-of-type {\n",
       "        vertical-align: middle;\n",
       "    }\n",
       "\n",
       "    .dataframe tbody tr th {\n",
       "        vertical-align: top;\n",
       "    }\n",
       "\n",
       "    .dataframe thead th {\n",
       "        text-align: right;\n",
       "    }\n",
       "</style>\n",
       "<table border=\"1\" class=\"dataframe\">\n",
       "  <thead>\n",
       "    <tr style=\"text-align: right;\">\n",
       "      <th></th>\n",
       "      <th>latitude</th>\n",
       "      <th>longitude</th>\n",
       "      <th>cc</th>\n",
       "      <th>traveler</th>\n",
       "    </tr>\n",
       "  </thead>\n",
       "  <tbody>\n",
       "    <tr>\n",
       "      <th>0</th>\n",
       "      <td>39.783678</td>\n",
       "      <td>-104.992871</td>\n",
       "      <td>US</td>\n",
       "      <td>True</td>\n",
       "    </tr>\n",
       "    <tr>\n",
       "      <th>1</th>\n",
       "      <td>37.643427</td>\n",
       "      <td>-122.416294</td>\n",
       "      <td>US</td>\n",
       "      <td>False</td>\n",
       "    </tr>\n",
       "    <tr>\n",
       "      <th>2</th>\n",
       "      <td>39.777215</td>\n",
       "      <td>-105.003989</td>\n",
       "      <td>US</td>\n",
       "      <td>True</td>\n",
       "    </tr>\n",
       "    <tr>\n",
       "      <th>3</th>\n",
       "      <td>37.765367</td>\n",
       "      <td>-122.424540</td>\n",
       "      <td>US</td>\n",
       "      <td>False</td>\n",
       "    </tr>\n",
       "    <tr>\n",
       "      <th>4</th>\n",
       "      <td>60.174029</td>\n",
       "      <td>24.937171</td>\n",
       "      <td>FI</td>\n",
       "      <td>True</td>\n",
       "    </tr>\n",
       "    <tr>\n",
       "      <th>...</th>\n",
       "      <td>...</td>\n",
       "      <td>...</td>\n",
       "      <td>...</td>\n",
       "      <td>...</td>\n",
       "    </tr>\n",
       "    <tr>\n",
       "      <th>58222</th>\n",
       "      <td>33.833333</td>\n",
       "      <td>35.833333</td>\n",
       "      <td>LB</td>\n",
       "      <td>False</td>\n",
       "    </tr>\n",
       "    <tr>\n",
       "      <th>58224</th>\n",
       "      <td>33.833333</td>\n",
       "      <td>35.833333</td>\n",
       "      <td>LB</td>\n",
       "      <td>False</td>\n",
       "    </tr>\n",
       "    <tr>\n",
       "      <th>58225</th>\n",
       "      <td>33.833333</td>\n",
       "      <td>35.833333</td>\n",
       "      <td>LB</td>\n",
       "      <td>False</td>\n",
       "    </tr>\n",
       "    <tr>\n",
       "      <th>58226</th>\n",
       "      <td>33.833333</td>\n",
       "      <td>35.833333</td>\n",
       "      <td>LB</td>\n",
       "      <td>False</td>\n",
       "    </tr>\n",
       "    <tr>\n",
       "      <th>58227</th>\n",
       "      <td>33.833333</td>\n",
       "      <td>35.833333</td>\n",
       "      <td>LB</td>\n",
       "      <td>False</td>\n",
       "    </tr>\n",
       "  </tbody>\n",
       "</table>\n",
       "<p>50686 rows × 4 columns</p>\n",
       "</div>"
      ],
      "text/plain": [
       "        latitude   longitude  cc  traveler\n",
       "0      39.783678 -104.992871  US      True\n",
       "1      37.643427 -122.416294  US     False\n",
       "2      39.777215 -105.003989  US      True\n",
       "3      37.765367 -122.424540  US     False\n",
       "4      60.174029   24.937171  FI      True\n",
       "...          ...         ...  ..       ...\n",
       "58222  33.833333   35.833333  LB     False\n",
       "58224  33.833333   35.833333  LB     False\n",
       "58225  33.833333   35.833333  LB     False\n",
       "58226  33.833333   35.833333  LB     False\n",
       "58227  33.833333   35.833333  LB     False\n",
       "\n",
       "[50686 rows x 4 columns]"
      ]
     },
     "execution_count": 71,
     "metadata": {},
     "output_type": "execute_result"
    }
   ],
   "source": [
    "checkin_brightkite\n",
    "brightkite_homes"
   ]
  },
  {
   "cell_type": "code",
   "execution_count": null,
   "metadata": {},
   "outputs": [],
   "source": [
    "checkin_brightkite"
   ]
  },
  {
   "cell_type": "code",
   "execution_count": 131,
   "metadata": {},
   "outputs": [],
   "source": [
    "def get_distance_from_home(row, homes):\n",
    "    \"\"\" \n",
    "    calulate_home_distance_bk: calulates the distance between two lat/long coordinaes, which\n",
    "                               in this case are the homes of two friends using the coordinates\n",
    "                               in the bk_user_homes dataframe\n",
    "    arg row: a row from the dataframe containingn friend data\n",
    "    \"\"\"\n",
    "        \n",
    "    user = row['user']\n",
    "    \n",
    "    home_lat = homes['latitude'][user]\n",
    "    home_long = homes['longitude'][user]\n",
    "    \n",
    "    checkin_lat = row['latitude']\n",
    "    checkin_long = row['longitude']\n",
    "\n",
    "    home_lat, home_long, checkin_lat, checkin_long = map(math.radians, [home_lat, home_long, checkin_lat, checkin_long])\n",
    "    \n",
    "    dlong = home_long - checkin_long\n",
    "    dlat = home_lat - checkin_lat\n",
    "\n",
    "    a = math.sin(dlat/2)**2 + (math.cos(checkin_lat) * math.cos(home_lat)* math.sin(dlong/2)**2)\n",
    "    c = 2*math.asin(math.sqrt(a))\n",
    "    r = 6371 #  radius of earth in km\n",
    "   \n",
    "    return c*r"
   ]
  },
  {
   "cell_type": "code",
   "execution_count": 132,
   "metadata": {},
   "outputs": [
    {
     "name": "stdout",
     "output_type": "stream",
     "text": [
      "CPU times: user 737 µs, sys: 23 µs, total: 760 µs\n",
      "Wall time: 790 µs\n"
     ]
    },
    {
     "data": {
      "text/plain": [
       "4.006078432567021"
      ]
     },
     "execution_count": 132,
     "metadata": {},
     "output_type": "execute_result"
    }
   ],
   "source": [
    "%%time\n",
    "get_distance_from_home(checkin_brightkite.iloc[0], brightkite_homes_dict)"
   ]
  },
  {
   "cell_type": "code",
   "execution_count": 144,
   "metadata": {},
   "outputs": [
    {
     "name": "stdout",
     "output_type": "stream",
     "text": [
      "CPU times: user 3.95 s, sys: 2.33 s, total: 6.28 s\n",
      "Wall time: 30.5 s\n"
     ]
    }
   ],
   "source": [
    "%%time\n",
    "brightkite_homes_dict = brightkite_homes.to_dict()\n",
    "checkin_brightkite['distance_from_home'] = checkin_brightkite.parallel_apply(\n",
    "    lambda row: get_distance_from_home(row, brightkite_homes_dict), axis=1)\n"
   ]
  },
  {
   "cell_type": "code",
   "execution_count": 145,
   "metadata": {},
   "outputs": [
    {
     "data": {
      "text/html": [
       "<div>\n",
       "<style scoped>\n",
       "    .dataframe tbody tr th:only-of-type {\n",
       "        vertical-align: middle;\n",
       "    }\n",
       "\n",
       "    .dataframe tbody tr th {\n",
       "        vertical-align: top;\n",
       "    }\n",
       "\n",
       "    .dataframe thead th {\n",
       "        text-align: right;\n",
       "    }\n",
       "</style>\n",
       "<table border=\"1\" class=\"dataframe\">\n",
       "  <thead>\n",
       "    <tr style=\"text-align: right;\">\n",
       "      <th></th>\n",
       "      <th>user</th>\n",
       "      <th>checkin_time</th>\n",
       "      <th>latitude</th>\n",
       "      <th>longitude</th>\n",
       "      <th>location_id</th>\n",
       "      <th>cc</th>\n",
       "      <th>geohash</th>\n",
       "      <th>month</th>\n",
       "      <th>season</th>\n",
       "      <th>distance_from_home</th>\n",
       "    </tr>\n",
       "  </thead>\n",
       "  <tbody>\n",
       "    <tr>\n",
       "      <th>0</th>\n",
       "      <td>0</td>\n",
       "      <td>2010-10-17T01:48:53Z</td>\n",
       "      <td>39.747652</td>\n",
       "      <td>-104.992510</td>\n",
       "      <td>88c46bf20db295831bd2d1718ad7e6f5</td>\n",
       "      <td>US</td>\n",
       "      <td>9xj6</td>\n",
       "      <td>10</td>\n",
       "      <td>autumn</td>\n",
       "      <td>4.006078</td>\n",
       "    </tr>\n",
       "    <tr>\n",
       "      <th>1</th>\n",
       "      <td>0</td>\n",
       "      <td>2010-10-16T06:02:04Z</td>\n",
       "      <td>39.891383</td>\n",
       "      <td>-105.070814</td>\n",
       "      <td>7a0f88982aa015062b95e3b4843f9ca2</td>\n",
       "      <td>US</td>\n",
       "      <td>9xj6</td>\n",
       "      <td>10</td>\n",
       "      <td>autumn</td>\n",
       "      <td>13.701001</td>\n",
       "    </tr>\n",
       "    <tr>\n",
       "      <th>2</th>\n",
       "      <td>0</td>\n",
       "      <td>2010-10-16T03:48:54Z</td>\n",
       "      <td>39.891077</td>\n",
       "      <td>-105.068532</td>\n",
       "      <td>dd7cd3d264c2d063832db506fba8bf79</td>\n",
       "      <td>US</td>\n",
       "      <td>9xj6</td>\n",
       "      <td>10</td>\n",
       "      <td>autumn</td>\n",
       "      <td>13.577496</td>\n",
       "    </tr>\n",
       "    <tr>\n",
       "      <th>3</th>\n",
       "      <td>0</td>\n",
       "      <td>2010-10-14T18:25:51Z</td>\n",
       "      <td>39.750469</td>\n",
       "      <td>-104.999073</td>\n",
       "      <td>9848afcc62e500a01cf6fbf24b797732f8963683</td>\n",
       "      <td>US</td>\n",
       "      <td>9xj6</td>\n",
       "      <td>10</td>\n",
       "      <td>autumn</td>\n",
       "      <td>3.730570</td>\n",
       "    </tr>\n",
       "    <tr>\n",
       "      <th>4</th>\n",
       "      <td>0</td>\n",
       "      <td>2010-10-14T00:21:47Z</td>\n",
       "      <td>39.752713</td>\n",
       "      <td>-104.996337</td>\n",
       "      <td>2ef143e12038c870038df53e0478cefc</td>\n",
       "      <td>US</td>\n",
       "      <td>9xj6</td>\n",
       "      <td>10</td>\n",
       "      <td>autumn</td>\n",
       "      <td>3.455918</td>\n",
       "    </tr>\n",
       "    <tr>\n",
       "      <th>...</th>\n",
       "      <td>...</td>\n",
       "      <td>...</td>\n",
       "      <td>...</td>\n",
       "      <td>...</td>\n",
       "      <td>...</td>\n",
       "      <td>...</td>\n",
       "      <td>...</td>\n",
       "      <td>...</td>\n",
       "      <td>...</td>\n",
       "      <td>...</td>\n",
       "    </tr>\n",
       "    <tr>\n",
       "      <th>4747282</th>\n",
       "      <td>58222</td>\n",
       "      <td>2009-01-23T02:30:34Z</td>\n",
       "      <td>33.833333</td>\n",
       "      <td>35.833333</td>\n",
       "      <td>9f6b83bca22411dd85460384f67fcdb0</td>\n",
       "      <td>LB</td>\n",
       "      <td>sy12</td>\n",
       "      <td>1</td>\n",
       "      <td>winter</td>\n",
       "      <td>0.000000</td>\n",
       "    </tr>\n",
       "    <tr>\n",
       "      <th>4747283</th>\n",
       "      <td>58224</td>\n",
       "      <td>2009-01-03T15:06:54Z</td>\n",
       "      <td>33.833333</td>\n",
       "      <td>35.833333</td>\n",
       "      <td>9f6b83bca22411dd85460384f67fcdb0</td>\n",
       "      <td>LB</td>\n",
       "      <td>sy12</td>\n",
       "      <td>1</td>\n",
       "      <td>winter</td>\n",
       "      <td>0.000000</td>\n",
       "    </tr>\n",
       "    <tr>\n",
       "      <th>4747284</th>\n",
       "      <td>58225</td>\n",
       "      <td>2009-01-20T13:58:14Z</td>\n",
       "      <td>33.833333</td>\n",
       "      <td>35.833333</td>\n",
       "      <td>9f6b83bca22411dd85460384f67fcdb0</td>\n",
       "      <td>LB</td>\n",
       "      <td>sy12</td>\n",
       "      <td>1</td>\n",
       "      <td>winter</td>\n",
       "      <td>0.000000</td>\n",
       "    </tr>\n",
       "    <tr>\n",
       "      <th>4747285</th>\n",
       "      <td>58226</td>\n",
       "      <td>2009-01-20T13:30:09Z</td>\n",
       "      <td>33.833333</td>\n",
       "      <td>35.833333</td>\n",
       "      <td>9f6b83bca22411dd85460384f67fcdb0</td>\n",
       "      <td>LB</td>\n",
       "      <td>sy12</td>\n",
       "      <td>1</td>\n",
       "      <td>winter</td>\n",
       "      <td>0.000000</td>\n",
       "    </tr>\n",
       "    <tr>\n",
       "      <th>4747286</th>\n",
       "      <td>58227</td>\n",
       "      <td>2009-01-21T00:24:35Z</td>\n",
       "      <td>33.833333</td>\n",
       "      <td>35.833333</td>\n",
       "      <td>9f6b83bca22411dd85460384f67fcdb0</td>\n",
       "      <td>LB</td>\n",
       "      <td>sy12</td>\n",
       "      <td>1</td>\n",
       "      <td>winter</td>\n",
       "      <td>0.000000</td>\n",
       "    </tr>\n",
       "  </tbody>\n",
       "</table>\n",
       "<p>4491035 rows × 10 columns</p>\n",
       "</div>"
      ],
      "text/plain": [
       "          user          checkin_time   latitude   longitude  \\\n",
       "0            0  2010-10-17T01:48:53Z  39.747652 -104.992510   \n",
       "1            0  2010-10-16T06:02:04Z  39.891383 -105.070814   \n",
       "2            0  2010-10-16T03:48:54Z  39.891077 -105.068532   \n",
       "3            0  2010-10-14T18:25:51Z  39.750469 -104.999073   \n",
       "4            0  2010-10-14T00:21:47Z  39.752713 -104.996337   \n",
       "...        ...                   ...        ...         ...   \n",
       "4747282  58222  2009-01-23T02:30:34Z  33.833333   35.833333   \n",
       "4747283  58224  2009-01-03T15:06:54Z  33.833333   35.833333   \n",
       "4747284  58225  2009-01-20T13:58:14Z  33.833333   35.833333   \n",
       "4747285  58226  2009-01-20T13:30:09Z  33.833333   35.833333   \n",
       "4747286  58227  2009-01-21T00:24:35Z  33.833333   35.833333   \n",
       "\n",
       "                                      location_id  cc geohash  month  season  \\\n",
       "0                88c46bf20db295831bd2d1718ad7e6f5  US    9xj6     10  autumn   \n",
       "1                7a0f88982aa015062b95e3b4843f9ca2  US    9xj6     10  autumn   \n",
       "2                dd7cd3d264c2d063832db506fba8bf79  US    9xj6     10  autumn   \n",
       "3        9848afcc62e500a01cf6fbf24b797732f8963683  US    9xj6     10  autumn   \n",
       "4                2ef143e12038c870038df53e0478cefc  US    9xj6     10  autumn   \n",
       "...                                           ...  ..     ...    ...     ...   \n",
       "4747282          9f6b83bca22411dd85460384f67fcdb0  LB    sy12      1  winter   \n",
       "4747283          9f6b83bca22411dd85460384f67fcdb0  LB    sy12      1  winter   \n",
       "4747284          9f6b83bca22411dd85460384f67fcdb0  LB    sy12      1  winter   \n",
       "4747285          9f6b83bca22411dd85460384f67fcdb0  LB    sy12      1  winter   \n",
       "4747286          9f6b83bca22411dd85460384f67fcdb0  LB    sy12      1  winter   \n",
       "\n",
       "         distance_from_home  \n",
       "0                  4.006078  \n",
       "1                 13.701001  \n",
       "2                 13.577496  \n",
       "3                  3.730570  \n",
       "4                  3.455918  \n",
       "...                     ...  \n",
       "4747282            0.000000  \n",
       "4747283            0.000000  \n",
       "4747284            0.000000  \n",
       "4747285            0.000000  \n",
       "4747286            0.000000  \n",
       "\n",
       "[4491035 rows x 10 columns]"
      ]
     },
     "execution_count": 145,
     "metadata": {},
     "output_type": "execute_result"
    }
   ],
   "source": [
    "checkin_brightkite"
   ]
  },
  {
   "cell_type": "code",
   "execution_count": 169,
   "metadata": {},
   "outputs": [
    {
     "data": {
      "image/png": "[encoded data removed]",
      "text/plain": [
       "<Figure size 432x288 with 1 Axes>"
      ]
     },
     "metadata": {
      "needs_background": "light"
     },
     "output_type": "display_data"
    }
   ],
   "source": [
    "for i, group in checkin_brightkite.groupby('month'):\n",
    "    \n",
    "    max_dist = math.log10(group['distance_from_home'].max() + 1) \n",
    "    \n",
    "    group['distance_from_home'].plot.kde(bw_method = 0.001, ind = np.logspace(0, max_dist, 15),loglog=True)\n",
    "    pass\n",
    "    \n",
    "    "
   ]
  },
  {
   "cell_type": "code",
   "execution_count": 151,
   "metadata": {},
   "outputs": [
    {
     "data": {
      "text/html": [
       "<div>\n",
       "<style scoped>\n",
       "    .dataframe tbody tr th:only-of-type {\n",
       "        vertical-align: middle;\n",
       "    }\n",
       "\n",
       "    .dataframe tbody tr th {\n",
       "        vertical-align: top;\n",
       "    }\n",
       "\n",
       "    .dataframe thead th {\n",
       "        text-align: right;\n",
       "    }\n",
       "</style>\n",
       "<table border=\"1\" class=\"dataframe\">\n",
       "  <thead>\n",
       "    <tr style=\"text-align: right;\">\n",
       "      <th></th>\n",
       "      <th>user</th>\n",
       "      <th>checkin_time</th>\n",
       "      <th>latitude</th>\n",
       "      <th>longitude</th>\n",
       "      <th>location_id</th>\n",
       "      <th>cc</th>\n",
       "      <th>geohash</th>\n",
       "      <th>month</th>\n",
       "      <th>season</th>\n",
       "      <th>distance_from_home</th>\n",
       "    </tr>\n",
       "  </thead>\n",
       "  <tbody>\n",
       "  </tbody>\n",
       "</table>\n",
       "</div>"
      ],
      "text/plain": [
       "Empty DataFrame\n",
       "Columns: [user, checkin_time, latitude, longitude, location_id, cc, geohash, month, season, distance_from_home]\n",
       "Index: []"
      ]
     },
     "execution_count": 151,
     "metadata": {},
     "output_type": "execute_result"
    }
   ],
   "source": [
    "checkin_brightkite[checkin_brightkite['distance_from_home'] < 0]"
   ]
  },
  {
   "cell_type": "code",
   "execution_count": null,
   "metadata": {},
   "outputs": [],
   "source": []
  }
 ],
 "metadata": {
  "kernelspec": {
   "display_name": "Python 3",
   "language": "python",
   "name": "python3"
  },
  "language_info": {
   "codemirror_mode": {
    "name": "ipython",
    "version": 3
   },
   "file_extension": ".py",
   "mimetype": "text/x-python",
   "name": "python",
   "nbconvert_exporter": "python",
   "pygments_lexer": "ipython3",
   "version": "3.8.3"
  }
 },
 "nbformat": 4,
 "nbformat_minor": 4
}
