{
 "cells": [
  {
   "cell_type": "code",
   "execution_count": 1,
   "metadata": {},
   "outputs": [
    {
     "name": "stdout",
     "output_type": "stream",
     "text": [
      "INFO: Pandarallel will run on 4 workers.\n",
      "INFO: Pandarallel will use Memory file system to transfer data between the main process and workers.\n"
     ]
    }
   ],
   "source": [
    "import pickle\n",
    "import numpy as np\n",
    "import pandas as pd\n",
    "import pygeohash as pgh\n",
    "import matplotlib.pyplot as plt\n",
    "import reverse_geocoder as rg\n",
    "import reverse_geocode as rg_cities\n",
    "from scipy.stats import entropy\n",
    "import plotly.express as px \n",
    "import seaborn as sns\n",
    "import math\n",
    "\n",
    "from urllib.request import urlopen\n",
    "import json\n",
    "\n",
    "from geopy.geocoders import Nominatim\n",
    "\n",
    "from datetime import datetime\n",
    "from pandarallel import pandarallel\n",
    "\n",
    "pandarallel.initialize(nb_workers=4)"
   ]
  },
  {
   "cell_type": "code",
   "execution_count": 48,
   "metadata": {},
   "outputs": [],
   "source": [
    "import plotly.io as pio\n",
    "pio.renderers.default = 'iframe'\n",
    "!rm -rf iframe_figures"
   ]
  },
  {
   "cell_type": "markdown",
   "metadata": {},
   "source": [
    "# Detecting Seasonal Patterns in User Movement"
   ]
  },
  {
   "cell_type": "markdown",
   "metadata": {},
   "source": [
    "There is more to human movement than periodic patterns and social-based movement. While the paper accurately predicts human movement throughout the week, we propose a more all-encompassing analysis that paints a broader picture, exploring monthly and seasonal movement. To do so, we will use the original check-in and friendship datasets from Gowalla and Brightkite and separate them into subsets representing a narrower time of the year. We want to see what mobility patterns are exhibited in different countries and throughout different times of the year: users can go on vacation, travel abroad, and change homes. This would allow us to understand the travelling patterns of users around the world (i.e. who is more likely to travel and where) as well as the distribution of check-ins and their density. We want to produce visualizations showcasing these patterns on a world map. "
   ]
  },
  {
   "cell_type": "markdown",
   "metadata": {},
   "source": [
    "Our starting point is the first replication of the Friendship and Mobility paper. We re-use the data-loading and data cleaning part, as well as the technique to determine home locations."
   ]
  },
  {
   "cell_type": "markdown",
   "metadata": {},
   "source": [
    "## Loading the data"
   ]
  },
  {
   "cell_type": "code",
   "execution_count": null,
   "metadata": {},
   "outputs": [],
   "source": [
    "# The datasets have no headers, so we have to name them for clarity\n",
    "checkin_header = ['user', 'checkin_time', 'latitude', 'longitude', 'location_id']\n",
    "edges_header = ['user1', 'user2']\n",
    "\n",
    "# Load the data by specifying the correct compression algorithm, separator and column names\n",
    "checkin_brightkite_orig = pd.read_csv('data/loc-brightkite_totalCheckins.txt.gz', compression = 'gzip', sep = '\\t', names = checkin_header)\n",
    "edges_brightkite_orig = pd.read_csv('data/loc-brightkite_edges.txt.gz', compression = 'gzip', sep = '\\t', names = edges_header)\n",
    "checkin_gowalla_orig = pd.read_csv('data/loc-gowalla_totalCheckins.txt.gz', compression = 'gzip', sep = '\\t', names = checkin_header)\n",
    "edges_gowalla_orig = pd.read_csv('data/loc-gowalla_edges.txt.gz', compression = 'gzip', sep = '\\t', names = edges_header)"
   ]
  },
  {
   "cell_type": "markdown",
   "metadata": {},
   "source": [
    "## Cleaning the data"
   ]
  },
  {
   "cell_type": "markdown",
   "metadata": {},
   "source": [
    "Some of the latitude and longitude values are not in the valid range of [-90, 90] and [-180, 180] respectively. Moreover, the location having (lat, long) = (0,0) is not a valid one. In both datasets, we remove rows in which either of the location attributes are not valid. We also remove the rows of the Brightkite dataset that have NaN values. "
   ]
  },
  {
   "cell_type": "code",
   "execution_count": 7,
   "metadata": {},
   "outputs": [],
   "source": [
    "def clean(checkins):\n",
    "    \"\"\" Rids the check-in data of invalid coordinates \"\"\"\n",
    "    to_drop = []\n",
    "    # Select indexes to drop depending on conditions mentionned above \n",
    "    to_drop.append(checkins[(checkins['latitude'] < -90.0) | \n",
    "                                   (checkins['latitude'] > 90.0)].index)\n",
    "    to_drop.append(checkins[(checkins['longitude'] < -180.0) | \n",
    "                                   (checkins['longitude'] > 180.0)].index)\n",
    "    to_drop.append(checkins[(checkins['latitude'] == 0) & \n",
    "                                   (checkins['longitude'] == 0)].index)\n",
    "    \n",
    "    for item in to_drop:\n",
    "        checkins.drop(item, inplace = True)\n",
    "    checkins.dropna(inplace = True)\n",
    "    \n",
    "    return checkins"
   ]
  },
  {
   "cell_type": "code",
   "execution_count": null,
   "metadata": {},
   "outputs": [],
   "source": [
    "# Pass copy of DataFrama in order not to have to reload the original one in case of a mistake\n",
    "checkin_brightkite = clean(checkin_brightkite_orig.copy())\n",
    "checkin_gowalla    = clean(checkin_gowalla_orig.copy())"
   ]
  },
  {
   "cell_type": "markdown",
   "metadata": {},
   "source": [
    "## Adding temporal information to the check-in data"
   ]
  },
  {
   "cell_type": "markdown",
   "metadata": {},
   "source": [
    "To be able to separate check-ins temporally, we add to each check-in: the day of the week, month, season and year. We also add the hour of the week (a number between 0 and 167). "
   ]
  },
  {
   "cell_type": "code",
   "execution_count": 8,
   "metadata": {},
   "outputs": [],
   "source": [
    "def to_datetime(string_date):\n",
    "    \"\"\" Returns the string found in the row to the correctly formatted datetime object \"\"\"\n",
    "    return datetime.strptime(string_date, '%Y-%m-%dT%H:%M:%SZ')\n",
    "\n",
    "def get_season(row):\n",
    "    \"\"\" \n",
    "        Returns the season from a certain row\n",
    "        Adapted from https://stackoverflow.com/a/28688724 \n",
    "    \"\"\"\n",
    "    # Define the datetime intervals according to every season\n",
    "    Y = 2000 # Leap year to allow input X-02-29, which allows for leap days\n",
    "    seasons = [('winter', (datetime(Y,  1,  1),  datetime(Y,  3, 20))),\n",
    "               ('spring', (datetime(Y,  3, 21),  datetime(Y,  6, 20))),\n",
    "               ('summer', (datetime(Y,  6, 21),  datetime(Y,  9, 22))),\n",
    "               ('autumn', (datetime(Y,  9, 23),  datetime(Y, 12, 20))),\n",
    "               ('winter', (datetime(Y, 12, 21),  datetime(Y, 12, 31)))]\n",
    "    \n",
    "    date_time = row['checkin_time'].replace(year=Y, hour=0, minute=0, second=0)\n",
    "    return next(season for season, (start, end) in seasons if start <= date_time <= end)\n",
    "\n",
    "seasons = ['winter', 'spring', 'summer', 'autumn']\n",
    "months = {1: 'January', 2: 'February', 3: 'March', 4: 'April', 5: 'May', 6: 'June',\\\n",
    "          7: 'July', 8: 'August', 9: 'September', 10: 'October', 11: 'November', 12: 'December'}"
   ]
  },
  {
   "cell_type": "code",
   "execution_count": null,
   "metadata": {},
   "outputs": [],
   "source": [
    "# Convert datetime strings to datetime objects\n",
    "checkin_brightkite['checkin_time'] = checkin_brightkite['checkin_time'].parallel_apply(to_datetime)\n",
    "checkin_gowalla['checkin_time'] = checkin_gowalla['checkin_time'].parallel_apply(to_datetime)\n",
    "\n",
    "# Find the month associated with every check-in\n",
    "checkin_brightkite['month'] = checkin_brightkite.parallel_apply(lambda row: row['checkin_time'].month, axis=1)\n",
    "checkin_gowalla['month'] = checkin_gowalla.parallel_apply(lambda row: row['checkin_time'].month, axis=1)\n",
    "\n",
    "# # Find the year associated with every check-in\n",
    "checkin_brightkite['year'] = checkin_brightkite.parallel_apply(lambda row: row['checkin_time'].year, axis=1)\n",
    "checkin_gowalla['year'] = checkin_gowalla.parallel_apply(lambda row: row['checkin_time'].year, axis=1)\n",
    "\n",
    "# Find the season associated with every check-in\n",
    "checkin_brightkite['season'] = checkin_brightkite.parallel_apply(get_season, axis=1)\n",
    "checkin_gowalla['season'] = checkin_gowalla.parallel_apply(get_season, axis=1)\n",
    "\n",
    "# Find the day of week associated with every check-in\n",
    "checkin_brightkite['day_of_week'] = checkin_brightkite.parallel_apply(lambda row: row['checkin_time'].weekday(), axis=1)\n",
    "checkin_gowalla['day_of_week'] = checkin_gowalla.parallel_apply(lambda row: row['checkin_time'].weekday(), axis=1)\n",
    "\n",
    "# Find the hour of week assoiated with every check-in (used for entropy) \n",
    "checkin_brightkite['hour_of_week'] = checkin_brightkite.parallel_apply(lambda row: row['day_of_week']*24 + row['checkin_time'].hour, axis=1)\n",
    "checkin_gowalla['hour_of_week'] = checkin_gowalla.parallel_apply(lambda row: row['day_of_week']*24 + row['checkin_time'].hour, axis=1)\n",
    "\n",
    "checkin_brightkite.head()"
   ]
  },
  {
   "cell_type": "markdown",
   "metadata": {},
   "source": [
    "## Analyzing the data's temporal distribution"
   ]
  },
  {
   "cell_type": "markdown",
   "metadata": {},
   "source": [
    "As we plan on analyzing the temporal distribution of check-ins and on finding monthly or seasonal patterns, the data needs to be consistent across the time period we want to study. To visualize this, we plot the distribution of the number of checkins as a function of the month and the year. "
   ]
  },
  {
   "cell_type": "code",
   "execution_count": null,
   "metadata": {},
   "outputs": [],
   "source": [
    "fig, axs = plt.subplots(1, 2, figsize = (20, 5))\n",
    "\n",
    "# Plot the check-in counts per month and year for both data sets\n",
    "checkin_gowalla.groupby(['year', 'month']).count()['user'].plot(ax = axs[0], title = 'Gowalla', color = 'red')\n",
    "checkin_brightkite.groupby(['year', 'month']).count()['user'].plot(ax = axs[1], title = 'Brightkite', color = 'blue')\n",
    "\n",
    "for ax in axs:\n",
    "    ax.set_xlabel('Year, Month')\n",
    "    ax.set_ylabel('Check-in count')\n",
    "plt.suptitle('Distribution of check-in counts per month and year')\n",
    "plt.show()"
   ]
  },
  {
   "cell_type": "markdown",
   "metadata": {},
   "source": [
    "We notice that for the Gowalla dataset, there is no consistency across monthly check-in growth: the monthly number of check-ins keeps growing and never stabilizes. This will pose a problem while analyzing check-in patterns for different months. Indeed, this might result in unbalanced and skewed results. Therefore, we decided to drop this dataset for the rest of the study. Later in this notebook, we applied one of our analyses on the Gowalla dataset to show this lack of coherence.\n",
    "\n",
    "As for the Brightkite dataset, the check-ins are more consistent on a monthly basis, except at the two ends of the available timeline. In order to avoid some months being weighted more than others, we keep check-ins spanning two calendar years, from May 1st 2008 until April 30th 2010. The plots below shows that the distribution is more balanced over that filtered timeline: we avoid months with a check-in count close to zero. More specifically, we avoid some months having less or more check-ins than others."
   ]
  },
  {
   "cell_type": "code",
   "execution_count": null,
   "metadata": {},
   "outputs": [],
   "source": [
    "# Keep a subset of the check-ins for the period mentioned above\n",
    "bright_kite_test = checkin_brightkite[(checkin_brightkite['checkin_time'] >= datetime(2008, 5, 1, 0, 0, 0)) & (checkin_brightkite['checkin_time'] < datetime(2010, 5, 1, 0, 0, 0))]\n",
    "\n",
    "fig, axs = plt.subplots(1, 2, figsize = (20, 5))\n",
    "\n",
    "# Plot the distributions\n",
    "bright_kite_test.groupby(['year','month']).count()['user'].plot(ax = axs[0], xlabel = 'Year, Month', ylabel = 'Check-in count', color = 'blue')\n",
    "bright_kite_test.groupby(['month']).count()['user'].plot(ax = axs[1], xlabel = 'Month', ylabel = 'Check-in count', color = 'blue')\n",
    "\n",
    "# Plot attributes\n",
    "axs[0].title.set_text(\"Check-in counts over our 2-year period, monthly\")\n",
    "axs[1].title.set_text(\"Aggregated total of check-in counts by month\")\n",
    "plt.show()"
   ]
  },
  {
   "cell_type": "code",
   "execution_count": null,
   "metadata": {},
   "outputs": [],
   "source": [
    "# Keep the check-ins over the two year period\n",
    "checkin_brightkite = bright_kite_test"
   ]
  },
  {
   "cell_type": "markdown",
   "metadata": {},
   "source": [
    "## Adding country information to check-ins"
   ]
  },
  {
   "cell_type": "markdown",
   "metadata": {},
   "source": [
    "For each check-in, we append the country code corresponding to the country the check-in was made in. This is done using a reverse geohashing library [`reverse_geocoder`](https://github.com/thampiman/reverse-geocoder) that maps coordinates (latitutde, longitude) to information about a specific place (e.g. city, country, country code)."
   ]
  },
  {
   "cell_type": "code",
   "execution_count": 9,
   "metadata": {},
   "outputs": [],
   "source": [
    "def extract_coordinates(row):\n",
    "    return (row['latitude'], row['longitude'])\n",
    "\n",
    "def coordinates_to_country(df):\n",
    "    \"\"\"\n",
    "        Maps the coordinates of a dataframe to the country\n",
    "        code using reverse geocoding\n",
    "    \"\"\"\n",
    "    coordinates_tuples = list(df.parallel_apply(extract_coordinates, axis = 1))\n",
    "    geocodes = rg.search(coordinates_tuples)\n",
    "    return [gc['cc'] for gc in geocodes]"
   ]
  },
  {
   "cell_type": "code",
   "execution_count": null,
   "metadata": {},
   "outputs": [],
   "source": [
    "# Append country codes to each check-in for both datasets\n",
    "checkin_brightkite['cc'] = coordinates_to_country(checkin_brightkite)\n",
    "\n",
    "checkin_brightkite.head()"
   ]
  },
  {
   "cell_type": "markdown",
   "metadata": {},
   "source": [
    "## Determining the location of user homes"
   ]
  },
  {
   "cell_type": "markdown",
   "metadata": {},
   "source": [
    "Here, the geohash is used to determine the home location for every user. Since this is similar to what was done in the replication, we will not go into detail about the implementation and justification."
   ]
  },
  {
   "cell_type": "code",
   "execution_count": 10,
   "metadata": {},
   "outputs": [],
   "source": [
    "def geohash_encode(row, precision = 4):\n",
    "    \"\"\"\n",
    "        Computes and returns the geohash with \n",
    "        precision 4 for a given row \n",
    "    \"\"\"\n",
    "    return pgh.encode(*extract_coordinates(row), precision=precision)\n",
    "\n",
    "def find_home(checkins, user_id):\n",
    "    \"\"\"\n",
    "        Given a user id, finds the most common world cell and \n",
    "        computes average location to estimate home location\n",
    "    \"\"\"\n",
    "    # Retrieve all the user's check-ins\n",
    "    group = checkins[checkins['user']  == user_id]\n",
    "    # Get the most common geohash for the user\n",
    "    geohash = group.groupby('geohash').size().idxmax()\n",
    "    \n",
    "    # Keep all checkins that happened in the most common geohash and compute average position\n",
    "    return group[group['geohash'] == geohash][['latitude', 'longitude']].mean()"
   ]
  },
  {
   "cell_type": "code",
   "execution_count": null,
   "metadata": {},
   "outputs": [],
   "source": [
    "# Compute the geohash for each check-in entry: that will determine the cell in which each check-in belongs\n",
    "checkin_brightkite['geohash'] = checkin_brightkite.parallel_apply(geohash_encode, axis = 1)"
   ]
  },
  {
   "cell_type": "code",
   "execution_count": null,
   "metadata": {},
   "outputs": [],
   "source": [
    "# All the users that made at least 1 check-in\n",
    "brightkite_users = set(checkin_brightkite.user)\n",
    "\n",
    "# Create empty DataFrame with user ids and apply function to all users\n",
    "brightkite_homes = pd.DataFrame(index = brightkite_users).index.to_series().parallel_apply(lambda user_id: find_home(checkin_brightkite, user_id)) \n",
    "\n",
    "# Add the country codes to the homes\n",
    "brightkite_homes['cc'] = coordinates_to_country(brightkite_homes)\n",
    "\n",
    "brightkite_homes.head()"
   ]
  },
  {
   "cell_type": "code",
   "execution_count": null,
   "metadata": {},
   "outputs": [],
   "source": [
    "# Store homes in dictionary for faster access\n",
    "brightkite_homes = brightkite_homes.to_dict(orient = 'index')"
   ]
  },
  {
   "cell_type": "markdown",
   "metadata": {},
   "source": [
    "## Identify travelers"
   ]
  },
  {
   "cell_type": "markdown",
   "metadata": {},
   "source": [
    "We now indentify users who travel. We define a traveler as a user who has made at least one check-in outside of his home country (determined by the country of its home location). From this definition, we mark each check-in depending on whether it was made while abroad or not. "
   ]
  },
  {
   "cell_type": "code",
   "execution_count": null,
   "metadata": {},
   "outputs": [],
   "source": [
    "def travel_check(row, homes):\n",
    "    \"\"\" \n",
    "        A check-in corresponds to a travel if it was made in a country \n",
    "        different than the user's home country\n",
    "    \"\"\"\n",
    "    return row['cc'] != homes[row['user']]['cc']"
   ]
  },
  {
   "cell_type": "code",
   "execution_count": null,
   "metadata": {},
   "outputs": [],
   "source": [
    "# Determine whether each check-in corresponds to a check-in made while abroad\n",
    "checkin_brightkite['is_abroad'] = checkin_brightkite.parallel_apply(lambda row: travel_check(row, brightkite_homes), axis = 1)\n",
    "checkin_gowalla['is_abroad'] = checkin_gowalla.parallel_apply(lambda row: travel_check(row, gowalla_homes), axis = 1) # to show that gowalla can't be used"
   ]
  },
  {
   "cell_type": "markdown",
   "metadata": {},
   "source": [
    "## When are users more likely to travel ?"
   ]
  },
  {
   "cell_type": "markdown",
   "metadata": {},
   "source": [
    "During certain periods, it is natural that people break their weakly movenent pattern: whether it is for a vacation or a work trip, users will check-in far from their home. We are interested in understanding these traveling patterns. This entails finding the time of the year users are more likely to check-in at a location abroad (in a country different from their home country) or travel far from home. \n",
    "\n",
    "Naturally, users that made check-ins outside of their home country will tend to travel further. For each season, we plot the distribution of home distances for both datasets and separate check-ins made while abroad from the rest. "
   ]
  },
  {
   "cell_type": "code",
   "execution_count": null,
   "metadata": {},
   "outputs": [],
   "source": [
    "# Credits of the function implementation: https://stackoverflow.com/a/15737218\n",
    "from math import radians, cos, sin, asin, sqrt\n",
    "def haversine(lat1, lon1, lat2, lon2):\n",
    "    \"\"\"\n",
    "        Calculates the great circle distance (in km) between two points \n",
    "        on the earth (specified in decimal degrees)\n",
    "    \"\"\"\n",
    "    # Convert decimal degrees to radians \n",
    "    lon1, lat1, lon2, lat2 = map(radians, [lon1, lat1, lon2, lat2])\n",
    "    # Haversine formula \n",
    "    dlon = lon2 - lon1 \n",
    "    dlat = lat2 - lat1 \n",
    "    a = sin(dlat/2)**2 + cos(lat1) * cos(lat2) * sin(dlon/2)**2\n",
    "    c = 2 * asin(sqrt(a)) \n",
    "    # Radius of earth in kilometers is 6371\n",
    "    km = 6371* c\n",
    "    return km"
   ]
  },
  {
   "cell_type": "code",
   "execution_count": null,
   "metadata": {},
   "outputs": [],
   "source": [
    "def get_distance_from_home(row, homes):\n",
    "    \"\"\" \n",
    "    calulate_home_distance_bk: calulates the distance between two lat/long coordinaes, which\n",
    "                               in this case are the homes of two friends using the coordinates\n",
    "                               in the bk_user_homes dataframe\n",
    "    arg row: a row from the dataframe containingn friend data\n",
    "    \"\"\"  \n",
    "    home_lat = homes[row['user']]['latitude']\n",
    "    home_long = homes[row['user']]['longitude']\n",
    "\n",
    "    return haversine(home_lat, home_long, row['latitude'], row['longitude'])"
   ]
  },
  {
   "cell_type": "code",
   "execution_count": null,
   "metadata": {},
   "outputs": [],
   "source": [
    "# Compute the distance between each check-in and the home of the user that made it \n",
    "checkin_brightkite['distance_from_home'] = checkin_brightkite.parallel_apply(lambda row: get_distance_from_home(row, brightkite_homes), axis=1)"
   ]
  },
  {
   "cell_type": "code",
   "execution_count": 6,
   "metadata": {},
   "outputs": [
    {
     "data": {
      "image/png": "[encoded data removed]",
      "text/plain": [
       "<Figure size 1440x720 with 4 Axes>"
      ]
     },
     "metadata": {
      "needs_background": "light"
     },
     "output_type": "display_data"
    }
   ],
   "source": [
    "fig, axs = plt.subplots(2, 2, figsize = (20, 10), sharex = True, sharey = True)\n",
    "axs = axs.ravel()\n",
    "\n",
    "# Store the max distance, for KDE evaluation logspace\n",
    "max_dist = math.log10(checkin_brightkite.distance_from_home.max())\n",
    "\n",
    "for i, season in enumerate(seasons):\n",
    "    # For each season, plot the distribution of check-in distances from home for check-ins made abroad and in-country \n",
    "    checkin_brightkite[(~checkin_brightkite['is_abroad']) & (checkin_brightkite['season'] == season)].distance_from_home.plot.kde(bw_method = 0.001, ind = np.logspace(0, max_dist, 30), loglog=True, \n",
    "                                                                 ls = '', marker = 'o', fillstyle = 'none', color = 'blue', ax = axs[i])\n",
    "    checkin_brightkite[(checkin_brightkite['is_abroad']) & (checkin_brightkite['season'] == season)].distance_from_home.plot.kde(bw_method = 0.001, ind = np.logspace(0, max_dist, 30), loglog=True, \n",
    "                                                                 ls = '', marker = 'o', fillstyle = 'none', color = 'skyblue', ax = axs[i])\n",
    "    \n",
    "    axs[i].title.set_text(season.capitalize())\n",
    "\n",
    "# Plot attributes\n",
    "fig.tight_layout(pad = 3)\n",
    "fig.text(0.5, 0, 'Check-in distance from home (km)', ha='center')\n",
    "plt.ylim(10e-8, 10e0)\n",
    "plt.legend(['In-country check-ins', 'Check-ins made abroad'])\n",
    "plt.suptitle('Fraction of check-ins as a function of distance travelled from home, by season')\n",
    "plt.show()"
   ]
  },
  {
   "cell_type": "markdown",
   "metadata": {},
   "source": [
    "The trend for each season is very similar. We do not see any particular increase in the probability of traveling further depending on the season. \n",
    "- Notice that, for in-country check-ins (solid color), the probability of checking-in far from home is high at a close distance, and decreases the further the check-in is. \n",
    "- For check-ins made abroad (pastel color), the probability of checking-in close to home is low, but stays rather constant for a long ditance (with a slight decrease towards 1000km)."
   ]
  },
  {
   "cell_type": "markdown",
   "metadata": {},
   "source": [
    "We plot the frequency of check-ins made abroad for each month, to try and find periods during which people travel more. This will tell us if there are popular months among travelers (i.e summer months). "
   ]
  },
  {
   "cell_type": "code",
   "execution_count": null,
   "metadata": {},
   "outputs": [],
   "source": [
    "fig, axs = plt.subplots(1, 2, figsize = (20, 5), sharex = True)\n",
    "axs = axs.ravel()\n",
    "\n",
    "# Plot the frequency of check-ins made abroad for each month\n",
    "checkin_gowalla[checkin_gowalla['is_abroad']].groupby('month')['user'].count().plot.bar(color = 'red', ax = axs[0])\n",
    "checkin_brightkite[checkin_brightkite['is_abroad']].groupby('month')['user'].count().plot.bar(color = 'blue', ax = axs[1])\n",
    "\n",
    "for ax in axs:\n",
    "    ax.set_xlabel('Month')\n",
    "    ax.set_ylabel('Check-in Count')\n",
    "    ax.set_xticks(range(0, 12))\n",
    "    ax.set_xticklabels(months.values())\n",
    "    ax.tick_params('x', rotation = 90)\n",
    "\n",
    "axs[0].legend(['Gowalla'])\n",
    "axs[1].legend(['Brightkite'])\n",
    "plt.suptitle('Distribution of check-ins made abroad, per month')\n",
    "plt.show()"
   ]
  },
  {
   "cell_type": "markdown",
   "metadata": {},
   "source": [
    "We see a spike in the frequency of check-ins abroad in June, July, September and August, i.e. summer months. This means that users tend to travel more during summer, even though some smill travel during the rest of the year. \n",
    "\n",
    "> Notice that the Gowalla plot shows a monthly grows of check-in counts, which is not stable enough to carry out our analysis. As stated previously, we will drop that dataset from now on. "
   ]
  },
  {
   "cell_type": "markdown",
   "metadata": {},
   "source": [
    "### Analyzing monthly and seasonal entropy"
   ]
  },
  {
   "cell_type": "markdown",
   "metadata": {},
   "source": [
    "We will now compute the entropy of check-in locations for each month and season. In order to do so, we need a way to represent neighboring locations as one single entity: we will reuse geohashes, but this time with a larger precision. Even though this does not indicate whether users travel abroad, it still shows the variability of their movement throughout the year. To compute the entropy, we use `scipy.stat`'s entropy method that takes as input value counts. "
   ]
  },
  {
   "cell_type": "code",
   "execution_count": null,
   "metadata": {},
   "outputs": [],
   "source": [
    "# Compute geohash of all check-ins with larger precision\n",
    "checkin_brightkite['geohash_precision5'] = checkin_brightkite.parallel_apply(lambda row: geohash_encode(row, precision=5), axis = 1)"
   ]
  },
  {
   "cell_type": "code",
   "execution_count": null,
   "metadata": {},
   "outputs": [],
   "source": [
    "brightkite_monthly_entropies = []\n",
    "brightkite_seasonal_entropies = []\n",
    "\n",
    "for i in range(12):\n",
    "    # Compute the entropy of the check-in locations using geohashes over each month\n",
    "    series = pd.Series(checkin_brightkite[checkin_brightkite['month'] == i+1].geohash_precision5)\n",
    "    brightkite_monthly_entropies.append(entropy(series.value_counts()))\n",
    "\n",
    "for season in seasons:\n",
    "    # Compute the entropy of the check-in locations using geohashes over each season\n",
    "    series = pd.Series(checkin_brightkite[checkin_brightkite['season'] == season].geohash_precision5)\n",
    "    brightkite_seasonal_entropies.append(entropy(series.value_counts()))\n",
    "\n",
    "\n",
    "# Plot the entropies over each month \n",
    "fig, axs = plt.subplots(1, 2, figsize = (20, 5))\n",
    "\n",
    "axs[0].bar(x = list(range(0, 12)), height = brightkite_monthly_entropies, color = 'blue')\n",
    "axs[1].bar(x = seasons, height = brightkite_seasonal_entropies, color = 'blue')\n",
    "\n",
    "# Plot properties \n",
    "axs[0].set_xlabel('Month')\n",
    "axs[0].set_ylabel('Location Entropy')\n",
    "axs[0].set_xticks(range(0, 12))\n",
    "axs[0].set_xticklabels(months.values())\n",
    "axs[0].tick_params('x', rotation = 90)\n",
    "axs[0].set_ylim(min(brightkite_monthly_entropies) - 0.1, max(brightkite_monthly_entropies) + 0.1)\n",
    "\n",
    "axs[1].set_xlabel('Season')\n",
    "axs[1].set_ylabel('Location Entropy')\n",
    "axs[1].set_ylim(min(brightkite_seasonal_entropies) - 0.1, max(brightkite_seasonal_entropies) + 0.1)\n",
    "\n",
    "plt.suptitle('Entropy of check-in locations over each month (left) and season (right)')\n",
    "plt.show()"
   ]
  },
  {
   "cell_type": "markdown",
   "metadata": {},
   "source": [
    "We observe that the entropy is higher during the summer (and the summer months). This shows that the variability of check-ins is higher during that time period and hints at higher non-periodic user movement in summer. That change certainly due to the fact that people tend to go out and take vacations when it's warmer."
   ]
  },
  {
   "cell_type": "markdown",
   "metadata": {},
   "source": [
    "### Analyzing weekly entropy on a monthly/seasonal basis"
   ]
  },
  {
   "cell_type": "markdown",
   "metadata": {},
   "source": [
    "After analyzing the entropy of locations over a whole period of time, we will now analyze the same metric on a weekly basis (for each hour of the week), and plot it for every period of time (i.e. seasons or months)."
   ]
  },
  {
   "cell_type": "code",
   "execution_count": null,
   "metadata": {},
   "outputs": [],
   "source": [
    "brightkite_monthly_entropies = []\n",
    "brightkite_seasonal_entropies = []\n",
    "\n",
    "for m in range(0, 12): # Repeat the computation for each month\n",
    "    entropies_brightkite = []\n",
    "    for i in range(168):\n",
    "        # For each hour of the week, compute the entropy of the week's hour for the given month\n",
    "        entropies_brightkite.append(entropy(checkin_brightkite[(checkin_brightkite['hour_of_week'] == i) & (checkin_brightkite['month'] == m+1)]\\\n",
    "                                 .geohash_precision5.value_counts(), base = 2))\n",
    "    brightkite_monthly_entropies.append(entropies_brightkite)    \n",
    "    \n",
    "\n",
    "for s in seasons: # Repeat the computation for each season\n",
    "    entropies_brightkite = []\n",
    "    for i in range(168): \n",
    "        # For each hour of the week, compute the entropy of the week's hour for the given season\n",
    "        entropies_brightkite.append(entropy(checkin_brightkite[(checkin_brightkite['season'] == s) & (checkin_brightkite['hour_of_week'] == i)]\\\n",
    "                                 .geohash_precision5.value_counts(), base = 2))                                 \n",
    "    brightkite_seasonal_entropies.append(entropies_brightkite)    "
   ]
  },
  {
   "cell_type": "code",
   "execution_count": null,
   "metadata": {},
   "outputs": [],
   "source": [
    "fig, axs = plt.subplots(1, 2, figsize = (25, 5), sharex = True)\n",
    "\n",
    "# Plot the entropies for each hour of the week, for each month\n",
    "for i in range(0,12):\n",
    "    axs[0].plot(list(range(168)), brightkite_monthly_entropies[i])  \n",
    "# Now for each season\n",
    "for i in range(0,4):\n",
    "    axs[1].plot(list(range(168)), brightkite_seasonal_entropies[i]) \n",
    "    \n",
    "# Plot vertical lines to show the seperation between days of the week\n",
    "for i in range(0, 169, 24):\n",
    "    axs[0].axvline(i, color = 'lightgrey', ls = '--')\n",
    "    axs[1].axvline(i, color = 'lightgrey', ls = '--')\n",
    "\n",
    "# Plot properties \n",
    "for ax in axs:\n",
    "    ax.set_xlabel('Weekday')\n",
    "    ax.set_ylabel('Location Entropy')\n",
    "    ax.set_xticks([24*i + 12 for i in range(7)])\n",
    "    ax.set_xticklabels(['Mon', 'Tue', 'Wed', 'Thu', 'Fri', 'Sat', 'Sun'])\n",
    "    \n",
    "axs[0].legend(months.values(), ncol = 6)\n",
    "axs[1].legend([s.capitalize() for s in seasons], ncol = 4)\n",
    "\n",
    "plt.suptitle('Weekly entropy aggregated over each month (left) and each season (right)')\n",
    "plt.show()"
   ]
  },
  {
   "cell_type": "markdown",
   "metadata": {},
   "source": [
    "We notice that the location entopy during the week-ends is always higher, as it was pointed out by the authors of the original paper. This trend is further accentuated during the summer, as seen on the right-hand plot. This means that the people's movement patterns vary more and are less predictable. For other seasons, notably the spring and autumn, people seem to be more set in their routines, hence the slightly lower entropy. "
   ]
  },
  {
   "cell_type": "markdown",
   "metadata": {},
   "source": [
    "## Pickle the data"
   ]
  },
  {
   "cell_type": "code",
   "execution_count": null,
   "metadata": {},
   "outputs": [],
   "source": [
    "# pickle.dump(checkin_brightkite, open('pickles/checkin_brightkite', 'wb'))\n",
    "# pickle.dump(checkin_gowalla, open('pickles/checkin_gowalla', 'wb'))\n",
    "\n",
    "# pickle.dump(brightkite_homes, open('pickles/brightkite_homes', 'wb'))\n",
    "# pickle.dump(gowalla_homes, open('pickles/gowalla_homes', 'wb'))"
   ]
  },
  {
   "cell_type": "code",
   "execution_count": null,
   "metadata": {},
   "outputs": [],
   "source": [
    "checkin_brightkite = pickle.load(open('pickles/checkin_brightkite_9_dec', 'rb'))\n",
    "#checkin_gowalla = pickle.load(open('pickles/checkin_gowalla', 'rb'))"
   ]
  },
  {
   "cell_type": "code",
   "execution_count": null,
   "metadata": {},
   "outputs": [],
   "source": [
    "brightkite_homes = pickle.load(open('pickles/brightkite_homes_9_dec', 'rb'))\n",
    "#gowalla_homes = pickle.load(open('pickles/gowalla_homes', 'rb'))"
   ]
  },
  {
   "cell_type": "markdown",
   "metadata": {},
   "source": [
    "## How does the home location change temporally"
   ]
  },
  {
   "cell_type": "markdown",
   "metadata": {},
   "source": [
    "During summer, holidays or even weekends, it is common for people to live in another place for a few weeks, e.g in a summer house or mountain cottage. We would now like to study what is the proportion of users that change homes throughout the year, and check if these home changes correspond to a special period of the year. We will carry out this analyzis mainly by computing user homes for each period of the year (months and seasons).\n",
    "\n",
    "To start, we only consider check-ins that were not made abroad, i.e. check-ins that were made in the main home location of the user that made them. We do this to avoid the following scenario. A user from the US is on vacation in Thailand in July, and does some check-ins there: this means we will assign the user a home in Thailand, which is not accurate. "
   ]
  },
  {
   "cell_type": "code",
   "execution_count": null,
   "metadata": {},
   "outputs": [],
   "source": [
    "# Keep check-ins that were not made abroad\n",
    "brightkite_incountry = checkin_brightkite[~checkin_brightkite['is_abroad']] \n",
    "\n",
    "# Print statistics on the numeber of check-ins per user\n",
    "brightkite_checkins_per_user = {user: len(checkins) for user, checkins in brightkite_incountry.groupby('user')}\n",
    "pd.Series(brightkite_checkins_per_user).describe()"
   ]
  },
  {
   "cell_type": "markdown",
   "metadata": {},
   "source": [
    "Notice that 50% of users have made 10 check-ins or less, which is not enough to determine a monthly home location. Moreover, 75% of the users have made 48 check-ins or less. To have pertinent results, we decide to keep the check-ins of users that made 10 check-ins or more: these users are called active users."
   ]
  },
  {
   "cell_type": "code",
   "execution_count": null,
   "metadata": {},
   "outputs": [],
   "source": [
    "# Keep users who made at least 10 check-ins (active users)\n",
    "brightkite_active_users = [user for user, n_checkins in brightkite_checkins_per_user.items() if n_checkins >= 10 ]\n",
    "\n",
    "# Keep the check-ins of active users only\n",
    "brightkite_incountry = brightkite_incountry[brightkite_incountry['user'].isin(brightkite_active_users)]"
   ]
  },
  {
   "cell_type": "markdown",
   "metadata": {},
   "source": [
    "Once the check-ins have been filtered, we can proceed to find the home location of users for each period. We store the check-ins and results in dictionary with the months/seasons as keys. \n",
    "\n",
    "To compute the home locations, we use the same technique as above, but:\n",
    "- We consider the set of users that made a check-in during the period of interest, \n",
    "- We base the calculation on the check-ins made during the period of interest. \n",
    "\n",
    "Note that some users might not have made check-ins during every period of interest: we therefore set the home location of such users for that period as their main (yearly) home location.  "
   ]
  },
  {
   "cell_type": "code",
   "execution_count": null,
   "metadata": {},
   "outputs": [],
   "source": [
    "# Dictionary: month/season -> DataFrame of check-ins made during that month/season\n",
    "brightkite_monthly = { month: checkins for month, checkins in brightkite_incountry.groupby('month') }\n",
    "brightkite_season = { season: checkins for season, checkins in brightkite_incountry.groupby('season') }\n",
    "\n",
    "# Dictionary: month/season -> DataFrame of home locations during that month/season\n",
    "brightkite_homes_monthly = {}\n",
    "brightkite_homes_season = {}\n",
    "\n",
    "for month, checkins in brightkite_monthly.items():\n",
    "    # Users that made a check-in during the period\n",
    "    users = checkins.user.unique()\n",
    "    \n",
    "    # Find the homes of the users, based on the check-ins made during that month \n",
    "    result = pd.DataFrame(index = users).index.to_series().parallel_apply(lambda user_id: find_home(checkins, user_id))\n",
    "    result = result.reset_index().rename(columns={'index':'user'})\n",
    "    \n",
    "    # Add country location\n",
    "    result['cc'] = coordinates_to_country(result)\n",
    "    # Compute the distance from users' main home location\n",
    "    result['dist_from_yearly_home'] = result.parallel_apply(lambda row: get_distance_from_home(row, brightkite_homes), axis=1)\n",
    "\n",
    "    # Determine users that didn't made a check-in during that period: retrieve their home location\n",
    "    missing = pd.DataFrame.from_dict(brightkite_homes, orient = 'index', columns = ['latitude', 'longitude', 'cc']).reset_index().rename({'index': 'user'}, axis = 1)\n",
    "    missing = missing[~missing['user'].isin(checkins.user.unique())]\n",
    "    # Distance is zero since home location didn't change\n",
    "    missing['dist_from_yearly_home'] = 0\n",
    "    \n",
    "    # Append missing users to result\n",
    "    result = result.append(missing, ignore_index=True)\n",
    "    brightkite_homes_monthly[month] = result\n",
    "    \n",
    "    print(\"Done for month\", month) # TODO: remove\n",
    "    \n",
    "    \n",
    "# Repeat the process for each season\n",
    "for season, checkins in brightkite_season.items():\n",
    "    users = checkins.user.unique()    \n",
    "    result = pd.DataFrame(index = users).index.to_series().parallel_apply(lambda user_id: find_home(checkins, user_id))\n",
    "    result = result.reset_index().rename(columns={'index':'user'})\n",
    "    result['cc'] = coordinates_to_country(result)\n",
    "    result['dist_from_yearly_home'] = result.parallel_apply(lambda row: get_distance_from_home(row, brightkite_homes), axis=1)\n",
    "\n",
    "    missing = pd.DataFrame.from_dict(brightkite_homes, orient = 'index', columns = ['latitude', 'longitude', 'cc']).reset_index().rename({'index': 'user'}, axis = 1)\n",
    "    missing = missing[~missing['user'].isin(checkins.user.unique())]\n",
    "    missing['dist_from_yearly_home'] = 0\n",
    "    \n",
    "    result = result.append(missing, ignore_index=True)\n",
    "    brightkite_homes_season[season] = result\n",
    "    \n",
    "    print(\"Done for season\", season) # TODO: remove"
   ]
  },
  {
   "cell_type": "markdown",
   "metadata": {},
   "source": [
    "To visualize when does the home location of users change, we decided to:\n",
    "1. Plot the average distance from the users' main (yearly) home\n",
    "2. Compute and plot the percentage of users that change homes for each period. \n",
    "\n",
    "We say that a user changed homes if the distance from his yearly home is greater than 100km apart. We chose 100km as a threshold because, according to the paper, people live in cities that are separated by that distance or more."
   ]
  },
  {
   "cell_type": "code",
   "execution_count": null,
   "metadata": {},
   "outputs": [],
   "source": [
    "# Collect the distances from yearly home for each month and season\n",
    "brightkite_monthly_distances = {month: homes.dist_from_yearly_home.mean() for month, homes in brightkite_homes_monthly.items()}\n",
    "brightkite_season_distances = {season: brightkite_homes_season[season].dist_from_yearly_home.mean() for season in seasons}\n",
    "\n",
    "fig, axs = plt.subplots(1, 2, figsize = (20, 5), sharey = True)\n",
    "axs = axs.ravel()\n",
    "\n",
    "# Plot distances from the main home for each period\n",
    "pd.Series(brightkite_monthly_distances).plot.bar(ax = axs[0], color = 'blue')\n",
    "pd.Series(brightkite_season_distances).plot.bar(ax = axs[1], color = 'blue')\n",
    "\n",
    "# Plot attributes\n",
    "axs[0].set_xlabel('Months')\n",
    "axs[0].set_xticks(range(0, 12))\n",
    "axs[0].set_xticklabels(months.values())\n",
    "axs[1].set_xlabel('Seasons')\n",
    "axs[0].set_ylabel('Average distance from main home')\n",
    "plt.ylim(25, 45)\n",
    "\n",
    "plt.suptitle('Average distance from main home over the year')\n",
    "plt.show()"
   ]
  },
  {
   "cell_type": "code",
   "execution_count": null,
   "metadata": {},
   "outputs": [],
   "source": [
    "threshold = 100 # People live in cities more than 100km apart\n",
    "brightkite_monthly_percentages = []\n",
    "brightkite_season_percentages = []\n",
    "\n",
    "# Compute the percentage of people who have a new home further than the treshold\n",
    "for month in range(1, 13):\n",
    "    distances = brightkite_homes_monthly[month].dist_from_yearly_home\n",
    "    brightkite_monthly_percentages.append(100*len(distances[distances > threshold])/len(distances))\n",
    "\n",
    "for season in seasons:\n",
    "    distances = brightkite_homes_season[season].dist_from_yearly_home\n",
    "    brightkite_season_percentages.append(100*len(distances[distances > threshold])/len(distances))\n",
    "        \n",
    "fig, axs = plt.subplots(1, 2, figsize = (20, 5), sharey = True)\n",
    "axs = axs.ravel()\n",
    "    \n",
    "# Plot percentages for each time period\n",
    "axs[0].bar(x = range(0, 12), height=brightkite_monthly_percentages, color = 'blue')\n",
    "axs[1].bar(x = seasons, height=brightkite_season_percentages, color = 'blue')\n",
    "\n",
    "# Plot attributes\n",
    "axs[0].set_xlabel('Months')\n",
    "axs[0].set_ylabel('Percentage')\n",
    "axs[0].set_xticks(range(0, 12))\n",
    "axs[0].set_xticklabels(months.values())\n",
    "axs[0].tick_params(axis='x', rotation= 90)\n",
    "axs[1].set_xlabel('Seasons')\n",
    "plt.ylim(min(brightkite_monthly_percentages) - 0.5, max(brightkite_monthly_percentages) + 0.5)\n",
    "\n",
    "plt.suptitle('Percentage of users whose homes change by more than {}km'.format(threshold))\n",
    "plt.show()"
   ]
  },
  {
   "cell_type": "code",
   "execution_count": 11,
   "metadata": {},
   "outputs": [],
   "source": [
    "checkin_brightkite = pickle.load(open('pickles/checkin_brightkite', 'rb'))\n",
    "brightkite_homes = pickle.load(open('pickles/brightkite_homes', 'rb'))"
   ]
  },
  {
   "cell_type": "markdown",
   "metadata": {},
   "source": [
    "## Analyzing international travel destinations"
   ]
  },
  {
   "cell_type": "markdown",
   "metadata": {},
   "source": [
    "In this part, we look into check-ins that were made while the user was abroad, i.e. those that correspond to travels. \n",
    "\n",
    "### Who travels where ?\n",
    "\n",
    "We first study the distribution of travel check-ins as a function of the destination and the user's nationality, depending on the season. A user's nationality is simply the country of her primary home. For visualization purposes, we only carry out the analysis on the 25 most frequent destinations and nationalities. "
   ]
  },
  {
   "cell_type": "code",
   "execution_count": 12,
   "metadata": {},
   "outputs": [],
   "source": [
    "# Determine users nationality \n",
    "checkin_brightkite['user_nationality'] = checkin_brightkite['user'].parallel_apply(lambda user: brightkite_homes[user]['cc'])"
   ]
  },
  {
   "cell_type": "code",
   "execution_count": 50,
   "metadata": {},
   "outputs": [],
   "source": [
    "# Isolate check-ins made while travelling\n",
    "checkin_brightkite_abroad = checkin_brightkite[checkin_brightkite['is_abroad']]\n",
    "\n",
    "# Find the top countries  \n",
    "brightkite_top_countries = checkin_brightkite_abroad.groupby('cc').count()['user'].sort_values(ascending=False)\n",
    "brightkite_top_countries = list(brightkite_top_countries[:25].index)\n",
    "\n",
    "# Find the top nationalities\n",
    "brightkite_top_nationalities = checkin_brightkite_abroad.groupby('user_nationality').count()['user'].sort_values(ascending=False)\n",
    "brightkite_top_nationalities = list(brightkite_top_nationalities[:25].index)\n",
    "\n",
    "# Keep check-ins made in top countries by top nationalities\n",
    "checkin_brightkite_abroad = checkin_brightkite_abroad[checkin_brightkite_abroad['cc'].isin(brightkite_top_countries)\n",
    "                                                     & checkin_brightkite_abroad['user_nationality'].isin(brightkite_top_nationalities)]"
   ]
  },
  {
   "cell_type": "markdown",
   "metadata": {},
   "source": [
    "Because the Brightkite dataset is dominated by users living in the US, there is naturally more travelers from there: this observation puts more focus on their check-ins to the detriment of the check-ins in other countries and from other nationalities. To account for this, we clamp the colormap's max value: this better displays travel involving other nationalities and destination countries. Restricting the max value also allows us to accurately compare trends across seasons."
   ]
  },
  {
   "cell_type": "code",
   "execution_count": 51,
   "metadata": {},
   "outputs": [
    {
     "data": {
      "text/html": [
       "<iframe\n",
       "    scrolling=\"no\"\n",
       "    width=\"820px\"\n",
       "    height=\"820\"\n",
       "    src=\"iframe_figures/figure_51.html\"\n",
       "    frameborder=\"0\"\n",
       "    allowfullscreen\n",
       "></iframe>\n"
      ]
     },
     "metadata": {},
     "output_type": "display_data"
    }
   ],
   "source": [
    "# Plot the heatmap: count of check-ins as a function of nationality and destinations\n",
    "fig = px.density_heatmap(checkin_brightkite_abroad.sort_values('month'), x = 'cc', y = 'user_nationality', animation_frame='season',\n",
    "                         labels = {'user_nationality': 'Nationality of Traveler', 'cc': 'Destination', 'season': 'Season'}, range_color = [0, 800],\n",
    "                         height = 800, width = 800, category_orders={'user_nationality': list(checkin_brightkite_abroad.user_nationality.sort_values()), \n",
    "                                                                       'cc': list(checkin_brightkite_abroad.cc.sort_values())})\n",
    "fig.update_layout(title_text='Number of Check-ins Made Abroad by Travelers', title_x = 0.5) \n",
    "\n",
    "fig['layout']['updatemenus'][0]['pad'] = dict(r=10, t=50)\n",
    "fig['layout']['sliders'][0]['pad'] = dict(r=10, t=50)\n",
    "\n",
    "fig.show()"
   ]
  },
  {
   "cell_type": "markdown",
   "metadata": {},
   "source": [
    "At first glance, there is more travel happening during the summer, as expected. We notice these slight changes:\n",
    "- Austria gets an increase in visits from Swiss, German, Dutch and British travelers during the winter. This is probably due to the popularity of the skiing industry in the country. \n",
    "- A lot of people from China go to Taiwan during the winter, and to Singapore during the summer. \n",
    "- Germany gets a high number of visits from neighbouring countries during the fall: this coincides with the Oktoberfest celebrations. \n",
    "\n",
    "We noticed that South-African users tend to travel almost exclusively to Finland in winter, and to Thailand in the remaining seasons. A closer data inspection shows that all these check-ins point back to two users (one for each of the destinations). Furthermore, almost all of these check-ins are at the exact same location. We conclude that such unusual patterns are probably generated by a bot.   "
   ]
  },
  {
   "cell_type": "markdown",
   "metadata": {},
   "source": [
    "### Finding popular tourist locations"
   ]
  },
  {
   "cell_type": "markdown",
   "metadata": {},
   "source": [
    "We're interested into finding the locations most people travel to. We add the city information to each check-in in the format `city, country`, to avoid considering cities like Cambrige (UK) and Cambridge (US) as one. We then computed the number of check-ins per city with their check-in position, and kept cities with more than a hundred check-ins. \n",
    "\n",
    "> We are aware that some countries have cities with the same name (e.g. Lebanon, Illinois and Lebanon, Virginia), but we found that this approach was good enough for the application. \n",
    "\n",
    "Note that we used a different reverse geocoding library for this step (`reverse_geocode` instead of `reverse_geocoder`) as it gives more accurate information about the exact city (rather than larger administrative regions).  "
   ]
  },
  {
   "cell_type": "code",
   "execution_count": 52,
   "metadata": {},
   "outputs": [],
   "source": [
    "# Extract lat, long tuples from each check-in\n",
    "checkin_brightkite_coords = list(checkin_brightkite.parallel_apply(extract_coordinates, axis = 1))\n",
    "# Determine the city corresponding to each check-in coordinates\n",
    "checkin_brightkite['city'] = ['{}, {}'.format(gc['city'], gc['country']) for gc in rg_cities.search(checkin_brightkite_coords)]"
   ]
  },
  {
   "cell_type": "code",
   "execution_count": 53,
   "metadata": {},
   "outputs": [],
   "source": [
    "# Keep check-ins that were made while traveling, i.e. abroad\n",
    "checkin_brightkite_abroad = checkin_brightkite[checkin_brightkite['is_abroad']].copy()"
   ]
  },
  {
   "cell_type": "code",
   "execution_count": 54,
   "metadata": {},
   "outputs": [
    {
     "data": {
      "text/plain": [
       "count    9665.000000\n",
       "mean       11.038800\n",
       "std        52.422892\n",
       "min         1.000000\n",
       "25%         1.000000\n",
       "50%         2.000000\n",
       "75%         5.000000\n",
       "max      1725.000000\n",
       "Name: checkins, dtype: float64"
      ]
     },
     "execution_count": 54,
     "metadata": {},
     "output_type": "execute_result"
    }
   ],
   "source": [
    "# Group check-ins per city and count the number of check-ins in each group. \n",
    "# Each group will have as coordinates, the element-wise average of each check-in's coordinate\n",
    "tourist_cities = checkin_brightkite_abroad.groupby('city')[['latitude', 'longitude', 'user']].aggregate({'latitude': 'mean', 'longitude' : 'mean', 'user': 'count'})\\\n",
    "                                          .reset_index().rename(columns = {'user' : 'checkins'})\n",
    "\n",
    "# Display some stats about the number of check-ins per city\n",
    "tourist_cities.checkins.describe()"
   ]
  },
  {
   "cell_type": "markdown",
   "metadata": {},
   "source": [
    "The distribution of the number of check-ins per cities is skewed. Notice that 75% of cities have 5 check-ins or less. Given that there are above 9000 cities, we cannot possibly take into account every city. We wil therefore keep cities with more than 100 check-ins "
   ]
  },
  {
   "cell_type": "code",
   "execution_count": 55,
   "metadata": {},
   "outputs": [
    {
     "name": "stdout",
     "output_type": "stream",
     "text": [
      "There are 171 tourist cities with more than 100 check-ins\n"
     ]
    }
   ],
   "source": [
    "# Keep cities that have more than 100 check-ins\n",
    "tourist_cities = tourist_cities[tourist_cities['checkins'] > 100]\n",
    "print('There are {} tourist cities with more than 100 check-ins'.format(len(tourist_cities)))"
   ]
  },
  {
   "cell_type": "code",
   "execution_count": 56,
   "metadata": {},
   "outputs": [
    {
     "data": {
      "text/html": [
       "<iframe\n",
       "    scrolling=\"no\"\n",
       "    width=\"1220px\"\n",
       "    height=\"820\"\n",
       "    src=\"iframe_figures/figure_56.html\"\n",
       "    frameborder=\"0\"\n",
       "    allowfullscreen\n",
       "></iframe>\n"
      ]
     },
     "metadata": {},
     "output_type": "display_data"
    }
   ],
   "source": [
    "# Plot the tourist cities' locations on a map, with the size as a 3rd dimension\n",
    "fig = px.scatter_mapbox(tourist_cities,lat=\"latitude\", lon=\"longitude\", size=\"checkins\", hover_name='city', \n",
    "                        height = 800, width = 1200, center={'lat': 35.941851, 'lon': -5.496089}, zoom = 1)\n",
    "fig.update_layout(mapbox_style=\"carto-positron\", title_text=\"Popular tourist cities over the world\", title_x = 0.5)\n",
    "fig.show()"
   ]
  },
  {
   "cell_type": "markdown",
   "metadata": {},
   "source": [
    "We notice that the most popular cities are mostly metropoles or megalopoles in developed countries. They're mostly *big name* tourist cities that people first think of when picking a destination."
   ]
  },
  {
   "cell_type": "markdown",
   "metadata": {},
   "source": [
    "### When people travel, where do they go ?"
   ]
  },
  {
   "cell_type": "markdown",
   "metadata": {},
   "source": [
    "Now that we've explored the different destinations of users, it is interesting to know where they check-in the most, compared to the local population of their destination city. We will explore the cities of San Francisco and Paris and compare the density of check-ins made by travelers with that of locals. We chose these cities as they contain a high amount of check-ins."
   ]
  },
  {
   "cell_type": "code",
   "execution_count": 57,
   "metadata": {},
   "outputs": [],
   "source": [
    "# Take check-ins that correspond to the San Fransico area (the geohash that spans this area)\n",
    "checkin_brightkite_sf = checkin_brightkite[checkin_brightkite['geohash'].str.startswith('9q8')].sort_values('is_abroad')"
   ]
  },
  {
   "cell_type": "code",
   "execution_count": 58,
   "metadata": {},
   "outputs": [
    {
     "data": {
      "text/html": [
       "<iframe\n",
       "    scrolling=\"no\"\n",
       "    width=\"1220px\"\n",
       "    height=\"820\"\n",
       "    src=\"iframe_figures/figure_58.html\"\n",
       "    frameborder=\"0\"\n",
       "    allowfullscreen\n",
       "></iframe>\n"
      ]
     },
     "metadata": {},
     "output_type": "display_data"
    }
   ],
   "source": [
    "# Plot the check-ins in San-Francisco distinguishing local check-ins from tourist ones (with the color)\n",
    "fig = px.scatter_mapbox(checkin_brightkite_sf,lat=\"latitude\", lon=\"longitude\", color = 'is_abroad', center = {'lat': 37.725207, 'lon': -122.395964},\n",
    "                        height = 800, width = 1200, labels = {'is_abroad': 'Tourist'})\n",
    "fig.update_layout(mapbox_style=\"carto-positron\", title_text=\"Check-ins in the San-Francisco area\", title_x = 0.5) \n",
    "fig.show()"
   ]
  },
  {
   "cell_type": "code",
   "execution_count": 59,
   "metadata": {},
   "outputs": [],
   "source": [
    "# Repeat for the Paris area \n",
    "checkin_brightkite_paris = checkin_brightkite[checkin_brightkite['geohash'].str.startswith('u09')].sort_values('is_abroad')"
   ]
  },
  {
   "cell_type": "code",
   "execution_count": 60,
   "metadata": {},
   "outputs": [
    {
     "data": {
      "text/html": [
       "<iframe\n",
       "    scrolling=\"no\"\n",
       "    width=\"1220px\"\n",
       "    height=\"820\"\n",
       "    src=\"iframe_figures/figure_60.html\"\n",
       "    frameborder=\"0\"\n",
       "    allowfullscreen\n",
       "></iframe>\n"
      ]
     },
     "metadata": {},
     "output_type": "display_data"
    }
   ],
   "source": [
    "fig = px.scatter_mapbox(checkin_brightkite_paris,lat=\"latitude\", lon=\"longitude\", color = 'is_abroad', center = {'lat': 48.845306, 'lon': 2.346271},\n",
    "                        zoom = 9, height = 800, width = 1200, labels = {'is_abroad': 'Tourist'})\n",
    "fig.update_layout(mapbox_style=\"carto-positron\", title_text=\"Check-ins in the Paris area\", title_x = 0.5) \n",
    "fig.show()"
   ]
  },
  {
   "cell_type": "markdown",
   "metadata": {},
   "source": [
    "While the local population spreads into Paris' suburbs, the tourists tend to be more concentrated around the city-center (and the airport in that case), where most tourist attractions are located. "
   ]
  },
  {
   "cell_type": "markdown",
   "metadata": {},
   "source": [
    "## Analyzing in-country travel destinations"
   ]
  },
  {
   "cell_type": "markdown",
   "metadata": {},
   "source": [
    "We're now focusing on analyzing the travel trends of users of a certain country, within that country. It would give insight on how locals travel inside their own country during different time of the years. For this part, we will focus on hand-picked countries: the United States, Germany and France. More precisely, we will look into administrative divisions (e.g. states, regions) of each country and study travel trends between them. "
   ]
  },
  {
   "cell_type": "code",
   "execution_count": 61,
   "metadata": {},
   "outputs": [],
   "source": [
    "def to_german_bundesland(state):\n",
    "    \"\"\"\n",
    "        Converts the names of German states to German (to be able to \n",
    "        use the geojson later on)\n",
    "    \"\"\"\n",
    "    if state == 'Baden-Wuerttemberg':\n",
    "        return 'Baden-Württemberg'\n",
    "    if state == 'Bavaria':\n",
    "        return 'Bayern'\n",
    "    if state == 'Hesse':\n",
    "        return 'Hessen'\n",
    "    if state == 'Lower Saxony':\n",
    "        return 'Niedersachsen'\n",
    "    if state == 'North Rhine-Westphalia':\n",
    "        return 'Nordrhein-Westfalen'\n",
    "    if state == 'Saxony':\n",
    "        return 'Sachsen'\n",
    "    if state == 'Saxony-Anhalt':\n",
    "        return 'Sachsen-Anhalt'\n",
    "    if state == 'Thuringia':\n",
    "        return 'Thüringen'\n",
    "    return state"
   ]
  },
  {
   "cell_type": "code",
   "execution_count": 62,
   "metadata": {},
   "outputs": [],
   "source": [
    "def to_french_region(region):\n",
    "    \"\"\"\n",
    "        Converts the names of French regions to French (to be able to \n",
    "        use the geojson later on)\n",
    "    \"\"\"\n",
    "    if region == 'Lower Normandy' or region == 'Haute-Normandie':\n",
    "        return 'Normandie'\n",
    "    if region == 'Poitou-Charentes' or region == 'Limousin' or region == 'Aquitaine':\n",
    "        return 'Nouvelle-Aquitaine'\n",
    "    if region == 'Midi-Pyrenees' or region == 'Languedoc-Roussillon':\n",
    "        return 'Occitanie'\n",
    "    if region == 'Auvergne' or region == 'Rhone-Alpes':\n",
    "        return 'Auvergne-Rhône-Alpes'\n",
    "    if region == 'Lorraine' or region == 'Alsace' or region == 'Champagne-Ardenne':\n",
    "        return 'Grand Est'\n",
    "    if region == 'Nord-Pas-de-Calais' or region == 'Picardie':\n",
    "        return 'Hauts-de-France'\n",
    "    if region == 'Bourgogne' or region == 'Franche-Comte':\n",
    "        return 'Bourgogne-Franche-Comté'\n",
    "    if region == 'Ile-de-France':\n",
    "        return 'Île-de-France'\n",
    "    if region == 'Centre':\n",
    "        return 'Centre-Val de Loire'\n",
    "    if region == 'Corsica':\n",
    "        return 'Corse'\n",
    "    if region == 'Brittany':\n",
    "        return 'Bretagne'\n",
    "    if region == \"Provence-Alpes-Cote d'Azur\":\n",
    "        return \"Provence-Alpes-Côte d'Azur\"\n",
    "    return region"
   ]
  },
  {
   "cell_type": "code",
   "execution_count": 63,
   "metadata": {},
   "outputs": [],
   "source": [
    "def extract_state(gc):\n",
    "    \"\"\"\n",
    "        Extracts the state from the geocoder's result. Calls translation\n",
    "        functions is the country is France or Germany\n",
    "    \"\"\"\n",
    "    if gc['cc'] == 'DE':\n",
    "        return to_german_bundesland(gc['admin1'])\n",
    "    if gc['cc'] == 'FR':\n",
    "        return to_french_region(gc['admin1'])\n",
    "    return gc['admin1']"
   ]
  },
  {
   "cell_type": "code",
   "execution_count": 64,
   "metadata": {},
   "outputs": [],
   "source": [
    "# Add the state info to each check-in\n",
    "checkin_brightkite['state'] = [extract_state(gc) for gc in rg.search(checkin_brightkite_coords)]\n",
    "\n",
    "# Add the state info to each home location\n",
    "\n",
    "# Retrieve home coordinates of all users\n",
    "brightkite_homes_coords = [(home['latitude'], home['longitude']) for home in brightkite_homes.values()]\n",
    "# Compute the state of all home coordinates\n",
    "brightkite_homes_states = [extract_state(gc) for gc in rg.search(brightkite_homes_coords)]\n",
    "\n",
    "# Update user homes with state info \n",
    "for i, user in enumerate(brightkite_homes.keys()):\n",
    "    brightkite_homes[user]['state'] = brightkite_homes_states[i]\n",
    "    \n",
    "# Add the home state info for each check-in\n",
    "checkin_brightkite['home_state'] = checkin_brightkite['user'].parallel_apply(lambda user: brightkite_homes[user]['state'])"
   ]
  },
  {
   "cell_type": "code",
   "execution_count": 65,
   "metadata": {},
   "outputs": [
    {
     "data": {
      "text/html": [
       "<div>\n",
       "<style scoped>\n",
       "    .dataframe tbody tr th:only-of-type {\n",
       "        vertical-align: middle;\n",
       "    }\n",
       "\n",
       "    .dataframe tbody tr th {\n",
       "        vertical-align: top;\n",
       "    }\n",
       "\n",
       "    .dataframe thead th {\n",
       "        text-align: right;\n",
       "    }\n",
       "</style>\n",
       "<table border=\"1\" class=\"dataframe\">\n",
       "  <thead>\n",
       "    <tr style=\"text-align: right;\">\n",
       "      <th></th>\n",
       "      <th>user</th>\n",
       "      <th>checkin_time</th>\n",
       "      <th>latitude</th>\n",
       "      <th>longitude</th>\n",
       "      <th>location_id</th>\n",
       "      <th>cc</th>\n",
       "      <th>geohash</th>\n",
       "      <th>month</th>\n",
       "      <th>season</th>\n",
       "      <th>day_of_week</th>\n",
       "      <th>hour_of_week</th>\n",
       "      <th>is_abroad</th>\n",
       "      <th>distance_from_home</th>\n",
       "      <th>geohash_precision5</th>\n",
       "      <th>user_nationality</th>\n",
       "      <th>city</th>\n",
       "      <th>state</th>\n",
       "      <th>home_state</th>\n",
       "    </tr>\n",
       "  </thead>\n",
       "  <tbody>\n",
       "    <tr>\n",
       "      <th>0</th>\n",
       "      <td>0</td>\n",
       "      <td>2010-10-17T01:48:53Z</td>\n",
       "      <td>39.747652</td>\n",
       "      <td>-104.992510</td>\n",
       "      <td>88c46bf20db295831bd2d1718ad7e6f5</td>\n",
       "      <td>US</td>\n",
       "      <td>9xj6</td>\n",
       "      <td>10</td>\n",
       "      <td>autumn</td>\n",
       "      <td>6</td>\n",
       "      <td>145</td>\n",
       "      <td>False</td>\n",
       "      <td>4.006078</td>\n",
       "      <td>9xj64</td>\n",
       "      <td>US</td>\n",
       "      <td>Denver, United States</td>\n",
       "      <td>Colorado</td>\n",
       "      <td>Colorado</td>\n",
       "    </tr>\n",
       "    <tr>\n",
       "      <th>1</th>\n",
       "      <td>0</td>\n",
       "      <td>2010-10-16T06:02:04Z</td>\n",
       "      <td>39.891383</td>\n",
       "      <td>-105.070814</td>\n",
       "      <td>7a0f88982aa015062b95e3b4843f9ca2</td>\n",
       "      <td>US</td>\n",
       "      <td>9xj6</td>\n",
       "      <td>10</td>\n",
       "      <td>autumn</td>\n",
       "      <td>5</td>\n",
       "      <td>126</td>\n",
       "      <td>False</td>\n",
       "      <td>13.701001</td>\n",
       "      <td>9xj6c</td>\n",
       "      <td>US</td>\n",
       "      <td>Broomfield, United States</td>\n",
       "      <td>Colorado</td>\n",
       "      <td>Colorado</td>\n",
       "    </tr>\n",
       "    <tr>\n",
       "      <th>2</th>\n",
       "      <td>0</td>\n",
       "      <td>2010-10-16T03:48:54Z</td>\n",
       "      <td>39.891077</td>\n",
       "      <td>-105.068532</td>\n",
       "      <td>dd7cd3d264c2d063832db506fba8bf79</td>\n",
       "      <td>US</td>\n",
       "      <td>9xj6</td>\n",
       "      <td>10</td>\n",
       "      <td>autumn</td>\n",
       "      <td>5</td>\n",
       "      <td>123</td>\n",
       "      <td>False</td>\n",
       "      <td>13.577496</td>\n",
       "      <td>9xj6c</td>\n",
       "      <td>US</td>\n",
       "      <td>Broomfield, United States</td>\n",
       "      <td>Colorado</td>\n",
       "      <td>Colorado</td>\n",
       "    </tr>\n",
       "    <tr>\n",
       "      <th>3</th>\n",
       "      <td>0</td>\n",
       "      <td>2010-10-14T18:25:51Z</td>\n",
       "      <td>39.750469</td>\n",
       "      <td>-104.999073</td>\n",
       "      <td>9848afcc62e500a01cf6fbf24b797732f8963683</td>\n",
       "      <td>US</td>\n",
       "      <td>9xj6</td>\n",
       "      <td>10</td>\n",
       "      <td>autumn</td>\n",
       "      <td>3</td>\n",
       "      <td>90</td>\n",
       "      <td>False</td>\n",
       "      <td>3.730570</td>\n",
       "      <td>9xj64</td>\n",
       "      <td>US</td>\n",
       "      <td>Denver, United States</td>\n",
       "      <td>Colorado</td>\n",
       "      <td>Colorado</td>\n",
       "    </tr>\n",
       "    <tr>\n",
       "      <th>4</th>\n",
       "      <td>0</td>\n",
       "      <td>2010-10-14T00:21:47Z</td>\n",
       "      <td>39.752713</td>\n",
       "      <td>-104.996337</td>\n",
       "      <td>2ef143e12038c870038df53e0478cefc</td>\n",
       "      <td>US</td>\n",
       "      <td>9xj6</td>\n",
       "      <td>10</td>\n",
       "      <td>autumn</td>\n",
       "      <td>3</td>\n",
       "      <td>72</td>\n",
       "      <td>False</td>\n",
       "      <td>3.455918</td>\n",
       "      <td>9xj64</td>\n",
       "      <td>US</td>\n",
       "      <td>Denver, United States</td>\n",
       "      <td>Colorado</td>\n",
       "      <td>Colorado</td>\n",
       "    </tr>\n",
       "  </tbody>\n",
       "</table>\n",
       "</div>"
      ],
      "text/plain": [
       "   user          checkin_time   latitude   longitude  \\\n",
       "0     0  2010-10-17T01:48:53Z  39.747652 -104.992510   \n",
       "1     0  2010-10-16T06:02:04Z  39.891383 -105.070814   \n",
       "2     0  2010-10-16T03:48:54Z  39.891077 -105.068532   \n",
       "3     0  2010-10-14T18:25:51Z  39.750469 -104.999073   \n",
       "4     0  2010-10-14T00:21:47Z  39.752713 -104.996337   \n",
       "\n",
       "                                location_id  cc geohash  month  season  \\\n",
       "0          88c46bf20db295831bd2d1718ad7e6f5  US    9xj6     10  autumn   \n",
       "1          7a0f88982aa015062b95e3b4843f9ca2  US    9xj6     10  autumn   \n",
       "2          dd7cd3d264c2d063832db506fba8bf79  US    9xj6     10  autumn   \n",
       "3  9848afcc62e500a01cf6fbf24b797732f8963683  US    9xj6     10  autumn   \n",
       "4          2ef143e12038c870038df53e0478cefc  US    9xj6     10  autumn   \n",
       "\n",
       "   day_of_week  hour_of_week  is_abroad  distance_from_home  \\\n",
       "0            6           145      False            4.006078   \n",
       "1            5           126      False           13.701001   \n",
       "2            5           123      False           13.577496   \n",
       "3            3            90      False            3.730570   \n",
       "4            3            72      False            3.455918   \n",
       "\n",
       "  geohash_precision5 user_nationality                       city     state  \\\n",
       "0              9xj64               US      Denver, United States  Colorado   \n",
       "1              9xj6c               US  Broomfield, United States  Colorado   \n",
       "2              9xj6c               US  Broomfield, United States  Colorado   \n",
       "3              9xj64               US      Denver, United States  Colorado   \n",
       "4              9xj64               US      Denver, United States  Colorado   \n",
       "\n",
       "  home_state  \n",
       "0   Colorado  \n",
       "1   Colorado  \n",
       "2   Colorado  \n",
       "3   Colorado  \n",
       "4   Colorado  "
      ]
     },
     "execution_count": 65,
     "metadata": {},
     "output_type": "execute_result"
    }
   ],
   "source": [
    "checkin_brightkite.head(5)"
   ]
  },
  {
   "cell_type": "markdown",
   "metadata": {},
   "source": [
    "Note that we use *state* to refer to a greater administrative division of a country: *région* in France and *Bundesländ* in Germany."
   ]
  },
  {
   "cell_type": "markdown",
   "metadata": {},
   "source": [
    "### Case study: United States"
   ]
  },
  {
   "cell_type": "markdown",
   "metadata": {},
   "source": [
    "The United States is divided into 50 states (and Washington, D.C.). We will observe how people move state to state during different times of the year. A user's home state is simply the state in which that user's main home is located. "
   ]
  },
  {
   "cell_type": "code",
   "execution_count": 66,
   "metadata": {},
   "outputs": [],
   "source": [
    "# Isolate check-ins made in the US by US nationals\n",
    "checkin_brightkite_local_us = checkin_brightkite[(checkin_brightkite['cc'] == 'US') & (checkin_brightkite['user_nationality'] == 'US')]\n",
    "\n",
    "# Keep check-ins that were made by out-of-state users\n",
    "checkin_brightkite_local_us = checkin_brightkite_local_us[checkin_brightkite_local_us['state'] != checkin_brightkite_local_us['home_state']]"
   ]
  },
  {
   "cell_type": "code",
   "execution_count": 67,
   "metadata": {},
   "outputs": [
    {
     "data": {
      "text/html": [
       "<iframe\n",
       "    scrolling=\"no\"\n",
       "    width=\"1220px\"\n",
       "    height=\"1220\"\n",
       "    src=\"iframe_figures/figure_67.html\"\n",
       "    frameborder=\"0\"\n",
       "    allowfullscreen\n",
       "></iframe>\n"
      ]
     },
     "metadata": {},
     "output_type": "display_data"
    }
   ],
   "source": [
    "# Plot the heatmap: count of check-ins as a function of home states and destination states\n",
    "# Color range is hardcoded to have the same scale for each season\n",
    "fig = px.density_heatmap(checkin_brightkite_local_us.sort_values('month'), x = 'state', y = 'home_state', animation_frame='season',\n",
    "                         labels = {'home_state': 'Home State', 'state': 'Destination State', 'season': 'Season'}, range_color = [0, 2200],\n",
    "                         height = 1200, width = 1200, category_orders={'state': list(checkin_brightkite_local_us.state.sort_values()), \n",
    "                                                                       'home_state': list(checkin_brightkite_local_us.home_state.sort_values())})\n",
    "fig.update_layout(title_text=\"Check-ins made in the US by Americans from out-of-state, as a function of home states and destination states\", title_x = 0.5) \n",
    "\n",
    "# Pad slider to avoid overlap with labels\n",
    "fig['layout']['updatemenus'][0]['pad']=dict(r= 10, t= 150)\n",
    "fig['layout']['sliders'][0]['pad']=dict(r= 10, t= 150,)\n",
    "\n",
    "fig.show()"
   ]
  },
  {
   "cell_type": "markdown",
   "metadata": {},
   "source": [
    "Let's visualize the number of in-country visits to each state, as a function of the season. We scaled down the maximum check-in count to avoid check-in count bias (e.g. one state dominating)."
   ]
  },
  {
   "cell_type": "code",
   "execution_count": 68,
   "metadata": {},
   "outputs": [
    {
     "data": {
      "text/html": [
       "<iframe\n",
       "    scrolling=\"no\"\n",
       "    width=\"1220px\"\n",
       "    height=\"820\"\n",
       "    src=\"iframe_figures/figure_68.html\"\n",
       "    frameborder=\"0\"\n",
       "    allowfullscreen\n",
       "></iframe>\n"
      ]
     },
     "metadata": {},
     "output_type": "display_data"
    }
   ],
   "source": [
    "# Json file representing each state's geography with polygons\n",
    "with urlopen('https://raw.githubusercontent.com/PublicaMundi/MappingAPI/master/data/geojson/us-states.json') as response:\n",
    "    us_states = json.load(response)\n",
    "\n",
    "# Group check-ins by state and season to get the number of check-ins in each state\n",
    "seasonal_state_us = checkin_brightkite_local_us.groupby(['state', 'season']).count()['user'].reset_index()\n",
    "\n",
    "# Plot that on a map \n",
    "fig = px.choropleth(seasonal_state_us, geojson=us_states, featureidkey='properties.name',locations='state', \n",
    "                    color = 'user', scope = 'usa', animation_frame='season', height = 800, width = 1200,\n",
    "                    labels = {'state': 'State', 'season': 'Season', 'user': 'Check-ins'},\n",
    "                    category_orders={'season': ['winter', 'spring', 'summer', 'autumn']}, range_color = [0, seasonal_state_us.user.max()*0.8])\n",
    "fig.update_layout(mapbox_style=\"carto-positron\", title_text='Check-ins made in the US by Americans from out-of-state, per state', title_x = 0.5) \n",
    "fig.show()"
   ]
  },
  {
   "cell_type": "markdown",
   "metadata": {},
   "source": [
    "We make the following observation about the American trends of in-country travel:\n",
    "- California is a very popular destination for most regions of the country\n",
    "- In winter, Texas receives a lot of visitors, especially from Colorado and California: this is probably due to the warmer climate in the state.\n",
    "- In winter, some people travel to Florida from up North, to escape the cold northern weather.\n",
    "- In the spring, there is an overall increase in travel. This trend intensifies during the summer, and dies down in autumn.\n",
    "\n",
    "More generally, we observe travel between neighboring states: this is expected as people can commute across state borders, and because some cities have subsurbs corssing state boundaries. "
   ]
  },
  {
   "cell_type": "markdown",
   "metadata": {},
   "source": [
    "## Case study: Germany"
   ]
  },
  {
   "cell_type": "markdown",
   "metadata": {},
   "source": [
    "We repeat the analysis on Germany's 16 Bundesländer."
   ]
  },
  {
   "cell_type": "code",
   "execution_count": 69,
   "metadata": {},
   "outputs": [],
   "source": [
    "# Isolate local germany check-ins made out-of-state\n",
    "checkin_brightkite_local_de = checkin_brightkite[(checkin_brightkite['cc'] == 'DE') & (checkin_brightkite['user_nationality'] == 'DE')]\n",
    "checkin_brightkite_local_de = checkin_brightkite_local_de[checkin_brightkite_local_de['state'] != checkin_brightkite_local_de['home_state']]"
   ]
  },
  {
   "cell_type": "code",
   "execution_count": 70,
   "metadata": {},
   "outputs": [
    {
     "data": {
      "text/html": [
       "<iframe\n",
       "    scrolling=\"no\"\n",
       "    width=\"1220px\"\n",
       "    height=\"1220\"\n",
       "    src=\"iframe_figures/figure_70.html\"\n",
       "    frameborder=\"0\"\n",
       "    allowfullscreen\n",
       "></iframe>\n"
      ]
     },
     "metadata": {},
     "output_type": "display_data"
    }
   ],
   "source": [
    "fig = px.density_heatmap(checkin_brightkite_local_de.sort_values('month'), x = 'state', y = 'home_state', animation_frame='season',\n",
    "                         labels = {'home_state': 'Home State', 'state': 'Destination State', 'season': 'Season'}, range_color = [0, 200],\n",
    "                         height = 1200, width = 1200, category_orders={'state': list(checkin_brightkite_local_de.state.sort_values()), \n",
    "                                                                       'home_state': list(checkin_brightkite_local_de.home_state.sort_values())})\n",
    "fig.update_layout(title_text=\"Check-ins made in Germany by Germans from out-of-state, as a function of home states and destination states\", title_x = 0.5) \n",
    "\n",
    "fig['layout']['updatemenus'][0]['pad']=dict(r= 10, t= 150)\n",
    "fig['layout']['sliders'][0]['pad']=dict(r= 10, t= 150,)\n",
    "\n",
    "fig.show()"
   ]
  },
  {
   "cell_type": "code",
   "execution_count": 71,
   "metadata": {},
   "outputs": [
    {
     "data": {
      "text/html": [
       "<iframe\n",
       "    scrolling=\"no\"\n",
       "    width=\"1220px\"\n",
       "    height=\"820\"\n",
       "    src=\"iframe_figures/figure_71.html\"\n",
       "    frameborder=\"0\"\n",
       "    allowfullscreen\n",
       "></iframe>\n"
      ]
     },
     "metadata": {},
     "output_type": "display_data"
    }
   ],
   "source": [
    "# Json file representing each state's geography with polygons\n",
    "with urlopen('https://raw.githubusercontent.com/isellsoap/deutschlandGeoJSON/master/2_bundeslaender/4_niedrig.geo.json') as response:\n",
    "    de_states = json.load(response)\n",
    "\n",
    "# Group check-ins by state and season to get the number of check-ins in each state\n",
    "seasonal_state_de = checkin_brightkite_local_de.groupby(['state', 'season']).count()['user'].reset_index()\n",
    "\n",
    "# Plot that on a map \n",
    "fig = px.choropleth(seasonal_state_de, geojson=de_states, featureidkey='properties.name',locations='state', \n",
    "                    color = 'user', scope='europe', animation_frame='season', height = 800, width = 1200,\n",
    "                    labels = {'state': 'State', 'season': 'Season', 'user': 'Check-ins'},\n",
    "                    category_orders={'season': ['winter', 'spring', 'summer', 'autumn']}, range_color = [0, seasonal_state_de.user.max()*0.8])\n",
    "\n",
    "fig.update_geos(fitbounds=\"locations\", visible=False)\n",
    "fig.update_layout(title_text='Check-ins made in Germany by Germans from out-of-state, per state', title_x = 0.5) \n",
    "fig.show()"
   ]
  },
  {
   "cell_type": "markdown",
   "metadata": {},
   "source": [
    "## Case study: France"
   ]
  },
  {
   "cell_type": "markdown",
   "metadata": {},
   "source": [
    "Last but not least, we repeat the analysis on French check-ins."
   ]
  },
  {
   "cell_type": "code",
   "execution_count": 72,
   "metadata": {},
   "outputs": [],
   "source": [
    "# Isolate local germany check-ins made out-of-state\n",
    "checkin_brightkite_local_fr = checkin_brightkite[(checkin_brightkite['cc'] == 'FR') & (checkin_brightkite['user_nationality'] == 'FR')]\n",
    "checkin_brightkite_local_fr = checkin_brightkite_local_fr[checkin_brightkite_local_fr['state'] != checkin_brightkite_local_fr['home_state']]"
   ]
  },
  {
   "cell_type": "code",
   "execution_count": 73,
   "metadata": {},
   "outputs": [
    {
     "data": {
      "text/html": [
       "<iframe\n",
       "    scrolling=\"no\"\n",
       "    width=\"1220px\"\n",
       "    height=\"1220\"\n",
       "    src=\"iframe_figures/figure_73.html\"\n",
       "    frameborder=\"0\"\n",
       "    allowfullscreen\n",
       "></iframe>\n"
      ]
     },
     "metadata": {},
     "output_type": "display_data"
    }
   ],
   "source": [
    "fig = px.density_heatmap(checkin_brightkite_local_fr.sort_values('month'), x = 'state', y = 'home_state', animation_frame='season',\n",
    "                         labels = {'home_state': 'Home State', 'state': 'Destination State', 'season': 'Season'}, range_color = [0, 200],\n",
    "                         height = 1200, width = 1200, category_orders={'state': list(checkin_brightkite_local_fr.state.sort_values()), \n",
    "                                                                       'home_state': list(checkin_brightkite_local_fr.home_state.sort_values())})\n",
    "fig.update_layout(title_text=\"Check-ins made in France by France from out-of-state, as a function of home states and destination states\", title_x = 0.5) \n",
    "\n",
    "fig['layout']['updatemenus'][0]['pad']=dict(r= 10, t= 150)\n",
    "fig['layout']['sliders'][0]['pad']=dict(r= 10, t= 150,)\n",
    "\n",
    "fig.show()"
   ]
  },
  {
   "cell_type": "markdown",
   "metadata": {},
   "source": [
    "Notice that most of the action is centered around Ile-de-France (where Paris is located). Most travellers are either from that region or visit it. Since it is a central location, we focus our next analysis on check-ins made by Ile-de-France residents to other regions. "
   ]
  },
  {
   "cell_type": "code",
   "execution_count": 74,
   "metadata": {},
   "outputs": [
    {
     "data": {
      "text/html": [
       "<iframe\n",
       "    scrolling=\"no\"\n",
       "    width=\"1220px\"\n",
       "    height=\"820\"\n",
       "    src=\"iframe_figures/figure_74.html\"\n",
       "    frameborder=\"0\"\n",
       "    allowfullscreen\n",
       "></iframe>\n"
      ]
     },
     "metadata": {},
     "output_type": "display_data"
    }
   ],
   "source": [
    "with urlopen('https://raw.githubusercontent.com/gregoiredavid/france-geojson/master/regions-version-simplifiee.geojson') as response:\n",
    "    fr_states = json.load(response)\n",
    "\n",
    "# Keep check-ins made by IdF residents in other states\n",
    "seasonal_state_fr = checkin_brightkite_local_fr[checkin_brightkite_local_fr['home_state'] == \"Île-de-France\"].groupby(['state', 'season']).count()['user'].reset_index()\n",
    "\n",
    "fig = px.choropleth(seasonal_state_fr, geojson=fr_states, featureidkey='properties.nom',locations='state', \n",
    "                    color = 'user', scope='europe', animation_frame='season', height = 800, width = 1200,\n",
    "                    labels = {'state': 'State', 'season': 'Season', 'user': 'Check-ins'},\n",
    "                    category_orders={'season': ['winter', 'spring', 'summer', 'autumn']}, range_color = [0, seasonal_state_fr.user.max()*0.8])\n",
    "\n",
    "fig.update_geos(fitbounds=\"locations\", visible=False)\n",
    "fig.update_layout(title_text='Out-of-state check-ins made in France by Ile-de-France residents', title_x = 0.5) \n",
    "fig.show()"
   ]
  },
  {
   "cell_type": "markdown",
   "metadata": {},
   "source": [
    "A few observations on travel trends from Ile-de-France users:\n",
    "- During the winter, the most visited regions are Auvergne-Rhone-Alpes and Occitanie. These two regions border the Alps and the Pyrenees respectively. They are popular destinations, thanks to the booming skiing industry in the season.\n",
    "- During spring, there is generally little travel. Notable spikes can be noticed in Nouvelle-Aquitaine and Pays de la Loire, regions that might be popular due to their proximity to the Atlantic coast.  \n",
    "- In summer, we notice a huge spike in check-ins across the country, but especially in the south. Summer is when people tend to take longer holidays and travel far from home. The south is a popular destination, thanks to its nice beaches, sunny weather, and Mediterranean culture. \n",
    "- In autumn, users travel less. However, we see an influx of visitors to Normandie (which is also visible in spring): cities like Deauville and le Havre are located. They have nice beaches and are really close to Paris, hence their popularity."
   ]
  }
 ],
 "metadata": {
  "kernelspec": {
   "display_name": "Python 3",
   "language": "python",
   "name": "python3"
  },
  "language_info": {
   "codemirror_mode": {
    "name": "ipython",
    "version": 3
   },
   "file_extension": ".py",
   "mimetype": "text/x-python",
   "name": "python",
   "nbconvert_exporter": "python",
   "pygments_lexer": "ipython3",
   "version": "3.8.5"
  }
 },
 "nbformat": 4,
 "nbformat_minor": 4
}
